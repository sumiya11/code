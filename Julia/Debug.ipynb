{
 "cells": [
  {
   "cell_type": "code",
   "execution_count": 5,
   "id": "61d85ee3-a989-427f-bf24-83cd6ad2ddc4",
   "metadata": {
    "editable": true,
    "slideshow": {
     "slide_type": ""
    },
    "tags": []
   },
   "outputs": [
    {
     "name": "stderr",
     "output_type": "stream",
     "text": [
      "WARNING: replacing module Groebner.\n"
     ]
    },
    {
     "data": {
      "text/plain": [
       "Main.Groebner"
      ]
     },
     "execution_count": 5,
     "metadata": {},
     "output_type": "execute_result"
    }
   ],
   "source": [
    "import AbstractAlgebra,Primes,LoopVectorization,CPUTime,HostCPUFeatures\n",
    "include(\"/Users/rouillie/Travail/Git/Groebner.jl/src/Groebner.jl\")"
   ]
  },
  {
   "cell_type": "code",
   "execution_count": 1,
   "id": "1ed21b31-2c07-4595-853e-6eac9bc13e02",
   "metadata": {},
   "outputs": [
    {
     "name": "stdout",
     "output_type": "stream",
     "text": [
      "Julia Version 1.10.0\n",
      "Commit 3120989f39b (2023-12-25 18:01 UTC)\n",
      "Build Info:\n",
      "  Official https://julialang.org/ release\n",
      "Platform Info:\n",
      "  OS: macOS (arm64-apple-darwin22.4.0)\n",
      "  CPU: 12 × Apple M2 Max\n",
      "  WORD_SIZE: 64\n",
      "  LIBM: libopenlibm\n",
      "  LLVM: libLLVM-15.0.7 (ORCJIT, apple-m1)\n",
      "  Threads: 2 on 8 virtual cores\n",
      "\u001b[32m\u001b[1mStatus\u001b[22m\u001b[39m `~/.julia/environments/v1.10/Project.toml`\n",
      "  \u001b[90m[c3fe647b] \u001b[39mAbstractAlgebra v0.37.4\n",
      "  \u001b[90m[66b61cbe] \u001b[39mAlgebraicSolving v0.4.8\n",
      "  \u001b[90m[a9b6321e] \u001b[39mAtomix v0.1.0\n",
      "  \u001b[90m[a9c8d775] \u001b[39mCPUTime v1.0.0\n",
      "  \u001b[90m[861a8166] \u001b[39mCombinatorics v1.0.2\n",
      "  \u001b[90m[e2ba6199] \u001b[39mExprTools v0.1.10\n",
      "  \u001b[90m[3e5b6fbb] \u001b[39mHostCPUFeatures v0.1.16\n",
      "  \u001b[90m[7073ff75] \u001b[39mIJulia v1.24.2\n",
      "  \u001b[90m[bdcacae8] \u001b[39mLoopVectorization v0.12.166\n",
      "  \u001b[90m[102ac46a] \u001b[39mMultivariatePolynomials v0.5.4\n",
      "  \u001b[90m[2edaba10] \u001b[39mNemo v0.41.3\n",
      "  \u001b[90m[aea7be01] \u001b[39mPrecompileTools v1.2.0\n",
      "  \u001b[90m[08abe8d2] \u001b[39mPrettyTables v2.3.1\n",
      "  \u001b[90m[27ebfcd6] \u001b[39mPrimes v0.5.5\n",
      "  \u001b[90m[a759f4b9] \u001b[39mTimerOutputs v0.5.23\n"
     ]
    }
   ],
   "source": [
    "versioninfo()\n",
    "using Pkg\n",
    "Pkg.status()\n"
   ]
  },
  {
   "cell_type": "code",
   "execution_count": 6,
   "id": "efb15b1c-dd09-4f4c-9f01-18b0693db194",
   "metadata": {
    "editable": true,
    "slideshow": {
     "slide_type": ""
    },
    "tags": []
   },
   "outputs": [
    {
     "name": "stderr",
     "output_type": "stream",
     "text": [
      "WARNING: redefinition of constant _gauss_reduct_jam. This may fail, cause incorrect answers, or produce other errors.\n",
      "WARNING: redefinition of constant _rur_rng. This may fail, cause incorrect answers, or produce other errors.\n"
     ]
    },
    {
     "data": {
      "text/plain": [
       "prepare_system (generic function with 1 method)"
      ]
     },
     "execution_count": 6,
     "metadata": {},
     "output_type": "execute_result"
    }
   ],
   "source": [
    "include(\"/Users/rouillie/Travail/Git/code/Julia/rur.jl\")"
   ]
  },
  {
   "cell_type": "code",
   "execution_count": 7,
   "id": "b4db68ce-15de-4b91-8644-9cb4f2339264",
   "metadata": {},
   "outputs": [],
   "source": [
    "path_ex=\"../Data/Systems/\";\n",
    "l_ex=[\"chandran9\",\"Reimer6\",\"eco11\",\"henrion6\",\"chandran10\",\"cp_d_3_n_6_p_6\",\"cp_d_3_n_6_p_2\",\"katsura11\",\"eco12\",\"fab_4\",\"chandran11\",\"eco13\",\"katsura12\",\"Noon7\",\"Reimer7\",\"phuoc1\"];\n",
    "QQ=AbstractAlgebra.QQ;\n",
    "polynomial_ring=AbstractAlgebra.polynomial_ring;"
   ]
  },
  {
   "cell_type": "code",
   "execution_count": null,
   "id": "083f366b-a320-456c-8481-6b559db5b13a",
   "metadata": {},
   "outputs": [
    {
     "name": "stdout",
     "output_type": "stream",
     "text": [
      "\n",
      "\n",
      "Process eco12\n",
      "Separating vector 1024(1024)\n",
      "variable 12 is separating 1024[2,2](0)[2,4](0)[2,6](0)[2,8](0)[2,10](0)[2,12](0)[2,14](0)[2,16](0)[2,18](0)[2,20](0)[2,22](0)[2,24](0)[2,26](0)[2,28](0)[2,30](0)[3,33](0)[3,36](0)[3,39](0)[3,42](0)[4,46](0)[4,50](0)[5,55](0)[5,60](0)[6,66](0)[6,72](0)[7,79](0)[7,86](0)[8,94](0)[9,103](0)[10,113](0)[11,124](0)[12,136](0)[13,149](0)[14,163](0)[16,179](0)[17,196](0)[19,215](0)[21,236](0)[23,259](0)(1)elapsed CPU time: 215.39384 seconds\n",
      "Time eco12 : 215.39384\n",
      "\n",
      "Process fab_4\n",
      "Separating vector 1056(1296)\n",
      "variable 4 is NOT separating 1042\n",
      "variable 3 is NOT separating 1042\n",
      "variable 2 is NOT separating 1042\n",
      "Warning : normalization of _Z \n",
      "variable 1 is NOT separating 1042[2,2](0)[2,4](0)[2,6](0)[2,8](0)[2,10](0)[2,12](0)[2,14](0)[2,16](0)[2,18](0)[2,20](0)[2,22](0)[2,24](0)[2,26](0)[2,28](0)[2,30](0)[3,33](0)[3,36](0)[3,39](0)[3,42](0)[4,46](0)[4,50](0)[5,55](0)[5,60](0)[6,66](0)[6,72](0)[7,79](0)[7,86](0)[8,94](0)[9,103](0)[10,113](0)[11,124](0)[12,136](0)[13,149](0)[14,163](0)[16,179](0)[17,196](0)[19,215](0)[21,236](0)[23,259](0)[25,284](0)[28,312](0)[31,343](0)[34,377](0)[37,414](0)\n",
      "*** Bad prime detected in apply_zdim ***\n",
      "\n",
      "*** bad prime for Gbasis detected ***\n",
      "[41,454](0)[45,499](0)[49,548](0)[54,602](0)[60,662](0)[66,728](0)[72,800](0)[80,880](0)[88,968](0)[96,1064](0)[106,1170](0)[117,1287](0)[128,1415](0)(1)elapsed CPU time: 433.5529 seconds\n",
      "Time fab_4 : 433.5529\n",
      "\n",
      "Process chandran11\n",
      "Separating vector 1024(1024)\n",
      "variable 11 is separating 1024[2,2](0)[2,4](0)[2,6](0)[2,8](0)[2,10](0)[2,12](0)[2,14](0)[2,16](0)[2,18](0)[2,20](0)[2,22](0)[2,24](0)[2,26](0)[2,28](0)[2,30](0)[3,33](0)[3,36](0)[3,39](0)[3,42](0)[4,46](0)[4,50](0)[5,55](0)[5,60](0)[6,66](0)[6,72](0)[7,79](0)[7,86](0)[8,94](0)[9,103](0)[10,113](0)[11,124](0)[12,136](0)[13,149](0)[14,163](0)[16,179](0)[17,196](0)[19,215](0)[21,236](0)[23,259](0)[25,284](0)[28,312](0)[31,343](0)[34,377](0)[37,414](0)[41,455](0)[45,500](0)[50,550](0)[55,605](0)[60,665](0)[66,731](0)[73,804](0)[80,884](0)[88,972](0)[97,1069](0)[106,1175](0)[117,1292](0)[129,1421](0)[142,1563](0)[156,1719](0)[171,1890](0)[189,2079](0)[207,2286](0)[228,2514](0)[251,2765](0)\n",
      "*** Bad prime detected in apply_zdim ***\n",
      "\n",
      "*** bad prime for Gbasis detected ***\n",
      "[276,3040](0)[304,3344](0)[334,3678](0)[367,4045](0)[404,4449](0)[444,4893](0)(1)elapsed CPU time: 1373.672009 seconds\n",
      "Time chandran11 : 1373.672009\n",
      "\n",
      "Process eco13\n",
      "Separating vector 2048(2048)\n",
      "variable 13 is separating 2048[2,2](0)[2,4](0)[2,6](0)[2,8](0)[2,10](0)[2,12](0)[2,14](0)[2,16](0)[2,18](0)[2,20](0)[2,22](0)[2,24](0)[2,26](0)[2,28](0)[2,30](0)[3,33](0)\n",
      "*** Bad prime detected in apply_zdim ***\n",
      "\n",
      "*** bad prime for Gbasis detected ***\n",
      "[3,35](0)[3,38](0)[3,41](0)[4,45](0)[4,49](0)[4,53](0)[5,58](0)[5,63](0)[6,69](0)[6,75](0)[7,82](0)[8,90](0)[9,99](0)[9,108](0)[10,118](0)[11,129](0)[12,141](0)[14,155](0)[15,170](0)[17,187](0)[18,205](0)[20,225](0)[22,247](0)[24,271](0)[27,298](0)[29,327](0)[32,359](0)[35,394](0)[39,433](0)\n",
      "*** Bad prime detected in apply_zdim ***\n",
      "\n",
      "*** bad prime for Gbasis detected ***\n",
      "[43,475](0)[47,522](0)[52,574](0)(1)elapsed CPU time: 2702.80175 seconds\n",
      "Time eco13 : 2702.80175\n",
      "\n",
      "Process katsura12\n",
      "Separating vector 2048(2048)\n",
      "variable 12 is separating 2048[2,2](0)[2,4](0)[2,6](0)[2,8](0)[2,10](0)[2,12](0)[2,14](0)[2,16](0)[2,18](0)[2,20](0)[2,22](0)[2,24](0)[2,26](0)[2,28](0)[2,30](0)[3,33](0)[3,36](0)[3,39](0)[3,42](0)[4,46](0)[4,50](0)[5,55](0)[5,60](0)[6,66](0)[6,72](0)[7,79](0)[7,86](0)[8,94](0)[9,103](0)[10,113](0)[11,124](0)[12,136](0)[13,149](0)[14,163](0)[16,179](0)[17,196](0)[19,215](0)[21,236](0)[23,259](0)[25,284](0)[28,312](0)[31,343](0)[34,377](0)[37,414](0)[41,455](0)[45,500](0)[50,550](0)[55,605](0)[60,665](0)[66,731](0)[73,804](0)[80,884](0)[88,972](0)(1)elapsed CPU time: 3879.807905 seconds\n",
      "Time katsura12 : 3879.807905\n",
      "\n",
      "Process Noon7\n",
      "Separating vector 2173(2173)\n",
      "variable 8 is separating 2173[2,2](0)[2,4](0)[2,6](0)[2,8](0)[2,10](0)[2,12](0)[2,14](0)[2,16](0)[2,18](0)[2,20](0)[2,22](0)[2,24](0)[2,26](0)[2,28](0)[2,30](0)[3,33](0)[3,36](0)[3,39](0)[3,42](0)[4,46](0)[4,50](0)[5,55](0)[5,60](0)[6,66](0)[6,72](0)[7,79](0)[7,86](0)[8,94](0)[9,103](0)[10,113](0)[11,124](0)[12,136](0)[13,149](0)[14,163](0)[16,179](0)[17,196](0)[19,215](0)[21,236](0)[23,259](0)[25,284](0)[28,312](0)[31,343](0)[34,377](0)[37,414](0)[41,455](0)[45,500](0)[50,550](0)[55,605](0)[60,665](0)[66,731](0)[73,804](0)[80,884](0)[88,972](0)[97,1069](0)[106,1175](0)[117,1292](0)\n",
      "*** Bad prime detected in apply_zdim ***\n",
      "\n",
      "*** bad prime for Gbasis detected ***\n",
      "[129,1420](0)(1)elapsed CPU time: 2375.213615 seconds\n",
      "Time Noon7 : 2375.213615\n",
      "\n",
      "Process Reimer7\n",
      "Separating vector 2880(2880)\n",
      "variable 7 is NOT separating 80\n",
      "variable 6 is NOT separating 60\n",
      "variable 5 is NOT separating 80\n",
      "variable 4 is NOT separating 60\n",
      "variable 3 is NOT separating 80\n",
      "variable 2 is NOT separating 60\n",
      "Warning : normalization of _Z \n",
      "variable 1 is NOT separating 80[2,2](0)[2,4](0)[2,6](0)[2,8](0)[2,10](0)[2,12](0)[2,14](0)[2,16](0)[2,18](0)[2,20](0)[2,22](0)[2,24](0)[2,26](0)[2,28](0)[2,30](0)[3,33](0)[3,36](0)[3,39](0)[3,42](0)[4,46](0)[4,50](0)[5,55](0)[5,60](0)[6,66](0)[6,72](0)[7,79](0)[7,86](0)[8,94](0)[9,103](0)[10,113](0)[11,124](0)[12,136](0)[13,149](0)["
     ]
    }
   ],
   "source": [
    "nn=Int32(28)\n",
    "#print(\"\\Using \",nn,\" bit primes\")\n",
    "for i in 9:length(path_ex)\n",
    "   print(\"\\n\\nProcess \",l_ex[i])\n",
    "   ex_name=string(path_ex,l_ex[i],\".jl\")\n",
    "   include(ex_name);\n",
    "   sys_z=convert_sys_to_sys_z(sys);\n",
    "   CPUTime.CPUtic();\n",
    "   dm,Dq,sys_T,_vars=prepare_system(sys_z,nn,R);\n",
    "   qq=test_param(sys_T,nn);\n",
    "   t1=CPUTime.CPUtoc();\n",
    "   print(\"Time \",l_ex[i],\" : \",t1)\n",
    "end"
   ]
  },
  {
   "cell_type": "code",
   "execution_count": null,
   "id": "1224e3d1-7de1-4507-9e97-7ea406c12d73",
   "metadata": {},
   "outputs": [],
   "source": []
  }
 ],
 "metadata": {
  "kernelspec": {
   "display_name": "Julia 1.10.0",
   "language": "julia",
   "name": "julia-1.10"
  },
  "language_info": {
   "file_extension": ".jl",
   "mimetype": "application/julia",
   "name": "julia",
   "version": "1.10.0"
  }
 },
 "nbformat": 4,
 "nbformat_minor": 5
}
