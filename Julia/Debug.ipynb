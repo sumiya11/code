{
 "cells": [
  {
   "cell_type": "code",
   "execution_count": 1,
   "id": "61d85ee3-a989-427f-bf24-83cd6ad2ddc4",
   "metadata": {
    "editable": true,
    "slideshow": {
     "slide_type": ""
    },
    "tags": []
   },
   "outputs": [
    {
     "name": "stdout",
     "output_type": "stream",
     "text": [
      "\n",
      "Welcome to Nemo version 0.38.3\n",
      "\n",
      "Nemo comes with absolutely no warranty whatsoever\n"
     ]
    },
    {
     "data": {
      "text/plain": [
       "Main.Groebner"
      ]
     },
     "execution_count": 1,
     "metadata": {},
     "output_type": "execute_result"
    }
   ],
   "source": [
    "import AbstractAlgebra,Primes,LoopVectorization,CPUTime,HostCPUFeatures\n",
    "include(\"/Users/rouillie/Travail/Git/Groebner.jl/src/Groebner.jl\")"
   ]
  },
  {
   "cell_type": "code",
   "execution_count": 2,
   "id": "efb15b1c-dd09-4f4c-9f01-18b0693db194",
   "metadata": {
    "editable": true,
    "slideshow": {
     "slide_type": ""
    },
    "tags": []
   },
   "outputs": [
    {
     "data": {
      "text/plain": [
       "prepare_system (generic function with 1 method)"
      ]
     },
     "execution_count": 2,
     "metadata": {},
     "output_type": "execute_result"
    }
   ],
   "source": [
    "include(\"/Users/rouillie/Travail/Git/code/Julia/rur.jl\")"
   ]
  },
  {
   "cell_type": "code",
   "execution_count": 8,
   "id": "abc336c8",
   "metadata": {
    "editable": true,
    "slideshow": {
     "slide_type": ""
    },
    "tags": []
   },
   "outputs": [
    {
     "ename": "LoadError",
     "evalue": "SystemError: opening file \"/Users/rouillie/Travail/Git/code/Data/Systems/ridges.jl\": No such file or directory",
     "output_type": "error",
     "traceback": [
      "SystemError: opening file \"/Users/rouillie/Travail/Git/code/Data/Systems/ridges.jl\": No such file or directory",
      "",
      "Stacktrace:",
      "  [1] systemerror(p::String, errno::Int32; extrainfo::Nothing)",
      "    @ Base ./error.jl:176",
      "  [2] #systemerror#82",
      "    @ ./error.jl:175 [inlined]",
      "  [3] systemerror",
      "    @ ./error.jl:175 [inlined]",
      "  [4] open(fname::String; lock::Bool, read::Nothing, write::Nothing, create::Nothing, truncate::Nothing, append::Nothing)",
      "    @ Base ./iostream.jl:293",
      "  [5] open",
      "    @ ./iostream.jl:275 [inlined]",
      "  [6] open(f::Base.var\"#418#419\"{String}, args::String; kwargs::Base.Pairs{Symbol, Union{}, Tuple{}, NamedTuple{(), Tuple{}}})",
      "    @ Base ./io.jl:393",
      "  [7] open",
      "    @ ./io.jl:392 [inlined]",
      "  [8] read",
      "    @ ./io.jl:473 [inlined]",
      "  [9] _include(mapexpr::Function, mod::Module, _path::String)",
      "    @ Base ./loading.jl:1959",
      " [10] include(fname::String)",
      "    @ Base.MainInclude ./client.jl:478",
      " [11] top-level scope",
      "    @ In[8]:3"
     ]
    }
   ],
   "source": [
    "QQ=AbstractAlgebra.QQ\n",
    "polynomial_ring=AbstractAlgebra.polynomial_ring\n",
    "include(\"/Users/rouillie/Travail/Git/code/Data/Systems/ridges.jl\");"
   ]
  },
  {
   "cell_type": "code",
   "execution_count": 4,
   "id": "90dd81c5",
   "metadata": {
    "editable": true,
    "slideshow": {
     "slide_type": ""
    },
    "tags": []
   },
   "outputs": [],
   "source": [
    "sys_z=convert_sys_to_sys_z(sys);"
   ]
  },
  {
   "cell_type": "code",
   "execution_count": 35,
   "id": "c64c55d3-f2f1-4135-b57e-eb463bcee8ee",
   "metadata": {},
   "outputs": [],
   "source": [
    "_pr=UInt32(Primes.prevprime(2^27))\n",
    "_arithm=Groebner.ArithmeticZp(UInt64, UInt32, _pr)\n",
    "_graph,_t_learn,_t_v,_q,_i_xw,_t_xw,_pr,_gb_expvecs=learn_zdim_quo(sys_z,_pr,_arithm);\n",
    "_expvecs,_cfs_zz=extract_raw_data(sys_z)\n",
    "_cfs_zp=reduce_mod_p(_cfs_zz,_pr)\n",
    "_success,_t_v=apply_zdim_quo!(_graph,_t_learn,_q,_i_xw,_t_xw,_pr,_arithm,_gb_expvecs,_cfs_zp);\n",
    "_sys_Int32=convert_to_mpol_UInt32(sys_z,_pr);\n",
    "_gg,_gro=Groebner.groebner_learn(_sys_Int32,ordering=Groebner.DegRevLex());\n",
    "_quo=Groebner.kbase(_gro,ordering=Groebner.DegRevLex());\n"
   ]
  },
  {
   "cell_type": "code",
   "execution_count": 36,
   "id": "d5138ec4-28fa-4247-8565-4c5de4dc84f7",
   "metadata": {},
   "outputs": [
    {
     "data": {
      "text/plain": [
       "10-element Vector{AbstractAlgebra.Generic.MPoly{AbstractAlgebra.GFElem{Int64}}}:\n",
       " x0\n",
       " x1\n",
       " x2\n",
       " x3\n",
       " x4\n",
       " x5\n",
       " x6\n",
       " x7\n",
       " x8\n",
       " x9"
      ]
     },
     "execution_count": 36,
     "metadata": {},
     "output_type": "execute_result"
    }
   ],
   "source": [
    "_vars=convert_to_mpol_UInt32(convert_sys_to_sys_z(AbstractAlgebra.gens(R)),_pr)"
   ]
  },
  {
   "cell_type": "code",
   "execution_count": 37,
   "id": "e6c97b8a-9793-4da5-b8e9-416b08258175",
   "metadata": {},
   "outputs": [
    {
     "data": {
      "text/plain": [
       "256"
      ]
     },
     "execution_count": 37,
     "metadata": {},
     "output_type": "execute_result"
    }
   ],
   "source": [
    "length(_quo)"
   ]
  },
  {
   "cell_type": "code",
   "execution_count": 38,
   "id": "e11b4679-fa94-4418-89d8-86c9ec7388fb",
   "metadata": {},
   "outputs": [],
   "source": [
    "for i in 1:length(_vars)\n",
    "  for j in 1:length(_quo)\n",
    "    qq=Groebner.normalform(_gro,_vars[i]*_quo[j],ordering=Groebner.DegRevLex())\n",
    "    pp=AbstractAlgebra.GF(Int64(_pr))(0)\n",
    "    vv=_t_v[_i_xw[i][j]]\n",
    "    if (length(vv)==1) pp=_quo[vv[1]] \n",
    "    else \n",
    "      v=map(AbstractAlgebra.GF(Int64(_pr)),vv);\n",
    "      for i in 1:length(_quo)\n",
    "        pp=pp+v[i]*_quo[i]\n",
    "      end\n",
    "    end\n",
    "    if ((pp-qq)!=0) \n",
    "        print(\"\\n Error \",i,\",\",j,\"\\n\")\n",
    "        break;\n",
    "    end\n",
    "  end\n",
    "end"
   ]
  },
  {
   "cell_type": "code",
   "execution_count": 39,
   "id": "9b1ca934-0d4f-4320-99ee-4aa7ff12ba47",
   "metadata": {},
   "outputs": [],
   "source": [
    "_v,_gred,_index,_dg,_hom = first_variable(_t_v,_i_xw,Int32(length(_vars)),_pr,_arithm);"
   ]
  },
  {
   "cell_type": "code",
   "execution_count": 40,
   "id": "5d01c192-f8b3-45d2-901c-9f49a797acfe",
   "metadata": {},
   "outputs": [
    {
     "data": {
      "text/plain": [
       "256-element Vector{Int32}:\n",
       "  32925861\n",
       "   1753100\n",
       " 133148745\n",
       "  91304572\n",
       "  45949732\n",
       "  80864746\n",
       "  53434465\n",
       " 105978749\n",
       "  98097659\n",
       "  83640925\n",
       " 119380097\n",
       "  62861055\n",
       " 124115101\n",
       "         ⋮\n",
       "  11444415\n",
       "  97420919\n",
       "  75975510\n",
       "  97599828\n",
       "  71376703\n",
       "  55048179\n",
       "  28616938\n",
       " 130643029\n",
       " 126600989\n",
       "    110700\n",
       " 134216889\n",
       "        41"
      ]
     },
     "execution_count": 40,
     "metadata": {},
     "output_type": "execute_result"
    }
   ],
   "source": [
    "Vector{Int32}(_v)"
   ]
  },
  {
   "cell_type": "code",
   "execution_count": 5,
   "id": "3d196aaa-e286-49d8-a694-88dd51192c01",
   "metadata": {},
   "outputs": [
    {
     "name": "stdout",
     "output_type": "stream",
     "text": [
      "[2,2](0)[2,4](0)[2,6](0)[2,8](0)[2,10](0)[2,12](0)[2,14](0)[2,16](0)[2,18](0)[2,20](0)[2,22](0)[2,24](0)[2,26](0)[2,28](0)[2,30](0)[3,33](0)[3,36](0)[3,39](0)[3,42](0)[4,46](0)[4,50](0)[5,55](0)[5,60](0)(1)[6,66](1)"
     ]
    }
   ],
   "source": [
    "qq=test_param(sys_z,27);\n"
   ]
  },
  {
   "cell_type": "code",
   "execution_count": 6,
   "id": "9a3e62bc-9518-4dbf-b161-533560e246d4",
   "metadata": {},
   "outputs": [
    {
     "data": {
      "text/plain": [
       "256-element Vector{Rational{BigInt}}:\n",
       " 19323349832288915105454068722019581055401465761603328550184537628902466746415537000017939429786029354390082329294586119505153509101332940884098040478728639542560550133727399482778062322407372338121043399668242276591791504658985882995272436541441//1\n",
       "  9780954853380808880538479229664232386067408595379462599476123985000014032136259469144882921249718562098683648161457171601373998434008031805531106908986101496851636487442263935727167348379040319295836782548122633830412983839733595096372467879001//1\n",
       " -2356146908372371907386565306754407078847915349684905173014423121951222892414636427376063335441064393158370044724229369852785064362302446686065909523393219270545410776860527295568122215809464696006223856079041887101574943412161058740469128064800//1\n",
       "  4025084301802802008452049065705445426365188722378379670566306166666672441208337230100774864711818338312215493070558506831841151618933346422029262102463416253848410077136734129928875452007835522343965754135029890465190528329108475348301427110700//1\n",
       " -3419079438538303061078961281046390107731465638611685953227205569456995771348605638697466393662161858590412498028318442569293552760316461986312721587187382490848047223005940072426786404731738635511089247941860680819723721895939478758674593760700//1\n",
       "  -763629022538995137325698630373821641293865334501476865804267954612018233840602802825515140352360877768066769109333449260607099872323176931494482082794285099287876410818714827786501346422912131580148369595517449945334508092863900814427712855309//1\n",
       "  -209249849967887503439174667228055771983963414169296434645080480916069556272669313575323293882762679074172908073313580393242572889337532902641831551909982332221669835381017969440245094594730777895870037424778823859190519556036550668243901527349//1\n",
       "    55484286439765111590759775425298812502649267516823176010540883058088677490244303871806823370990159762522152754089846203602787726180062028416589259705659098330795767621920069317697529211081268321343905174238624156620573986843536222598723506100//1\n",
       "  -146857819970348444378639040642441251343698863567435465379622051539758325493202731535674818963010702287490425011616718019976681071039592371155894356572002224834724798140411255849444287829625892335708280490242195016874330087338013354232079277000//1\n",
       "   156620726757611379379832227901266285058788785557363623803553640736158865448353070246319622720498951728447591889751024582344683893222547423185057931617006445993975194179055075644138403923825593751316330919458265594329075708828418318518898352900//1\n",
       "    55547403114964503749695856865947844403123236401911011019744982343961363493965753889228969418934011202236808794968382159590699053871365246670512284008458355139523362934504360417376553233910694592677389486727300966930280917772196785010978858675//1\n",
       "     2339360072935041329128624549609131493717138381120613956803700779523518748771098549355607042626030694313829595582403859834776509479548180591393411812515823256706271600531305589659433445748329020779502879953407688268994259423825669378571829675//1\n",
       "     6863575781744710233758506762309614620463521427699972669309873724250531177096149739957846033944346969312866847060930038029888225095781820619937725459758512358195529203191170284355387948273369476171766437961565553242359042855014028688149010900//1\n",
       "                                                                                                                                                                                                                                                      ⋮\n",
       "                                                                                                                                                                                                                                  28332718273490418900//1\n",
       "                                                                                                                                                                                                                                    119220205065431675//1\n",
       "                                                                                                                                                                                                                                     34948740774886675//1\n",
       "                                                                                                                                                                                                                                      1216555673144900//1\n",
       "                                                                                                                                                                                                                                       -14082988077000//1\n",
       "                                                                                                                                                                                                                                           65687498100//1\n",
       "                                                                                                                                                                                                                                           -3058389909//1\n",
       "                                                                                                                                                                                                                                            -137792349//1\n",
       "                                                                                                                                                                                                                                              -7616700//1\n",
       "                                                                                                                                                                                                                                                110700//1\n",
       "                                                                                                                                                                                                                                                  -800//1\n",
       "                                                                                                                                                                                                                                                    41//1"
      ]
     },
     "execution_count": 6,
     "metadata": {},
     "output_type": "execute_result"
    }
   ],
   "source": [
    "qq[1]"
   ]
  },
  {
   "cell_type": "code",
   "execution_count": 49,
   "id": "100f248e-adb0-44ca-b5bf-1707e53857a3",
   "metadata": {},
   "outputs": [
    {
     "data": {
      "text/plain": [
       "10-element Vector{AbstractAlgebra.Generic.MPoly{Rational{BigInt}}}:\n",
       " x1*x2*x10 + x2*x3*x10 + x3*x4*x10 + x4*x5*x10 + x5*x6*x10 + x6*x7*x10 + x7*x8*x10 + x8*x9*x10 + x1*x10 - 1\n",
       " x1*x3*x10 + x2*x4*x10 + x3*x5*x10 + x4*x6*x10 + x5*x7*x10 + x6*x8*x10 + x7*x9*x10 + x2*x10 - 2\n",
       " x1*x4*x10 + x2*x5*x10 + x3*x6*x10 + x4*x7*x10 + x5*x8*x10 + x6*x9*x10 + x3*x10 - 3\n",
       " x1*x5*x10 + x2*x6*x10 + x3*x7*x10 + x4*x8*x10 + x5*x9*x10 + x4*x10 - 4\n",
       " x1*x6*x10 + x2*x7*x10 + x3*x8*x10 + x4*x9*x10 + x5*x10 - 5\n",
       " x1*x7*x10 + x2*x8*x10 + x3*x9*x10 + x6*x10 - 6\n",
       " x1*x8*x10 + x2*x9*x10 + x7*x10 - 7\n",
       " x1*x9*x10 + x8*x10 - 8\n",
       " x9*x10 - 9\n",
       " x1 + x2 + x3 + x4 + x5 + x6 + x7 + x8 + x9 + 1"
      ]
     },
     "execution_count": 49,
     "metadata": {},
     "output_type": "execute_result"
    }
   ],
   "source": [
    "sys = Groebner.eco10(k=QQ, ordering=:degrevlex)\n"
   ]
  },
  {
   "cell_type": "code",
   "execution_count": null,
   "id": "883bf61d-ddbb-4cf5-b112-73eb07411f21",
   "metadata": {},
   "outputs": [],
   "source": []
  }
 ],
 "metadata": {
  "kernelspec": {
   "display_name": "Julia 1.9.3",
   "language": "julia",
   "name": "julia-1.9"
  },
  "language_info": {
   "file_extension": ".jl",
   "mimetype": "application/julia",
   "name": "julia",
   "version": "1.9.3"
  }
 },
 "nbformat": 4,
 "nbformat_minor": 5
}
