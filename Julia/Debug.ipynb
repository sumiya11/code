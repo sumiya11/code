{
 "cells": [
  {
   "cell_type": "code",
   "execution_count": 7,
   "id": "61d85ee3-a989-427f-bf24-83cd6ad2ddc4",
   "metadata": {
    "editable": true,
    "slideshow": {
     "slide_type": ""
    },
    "tags": []
   },
   "outputs": [
    {
     "name": "stderr",
     "output_type": "stream",
     "text": [
      "WARNING: replacing module Groebner.\n"
     ]
    },
    {
     "data": {
      "text/plain": [
       "Main.Groebner"
      ]
     },
     "execution_count": 7,
     "metadata": {},
     "output_type": "execute_result"
    }
   ],
   "source": [
    "import AbstractAlgebra,Primes,LoopVectorization,CPUTime,HostCPUFeatures\n",
    "include(\"/Users/rouillie/Travail/Git/Groebner.jl/src/Groebner.jl\")"
   ]
  },
  {
   "cell_type": "code",
   "execution_count": 8,
   "id": "efb15b1c-dd09-4f4c-9f01-18b0693db194",
   "metadata": {
    "editable": true,
    "slideshow": {
     "slide_type": ""
    },
    "tags": []
   },
   "outputs": [
    {
     "name": "stderr",
     "output_type": "stream",
     "text": [
      "WARNING: redefinition of constant _gauss_reduct_jam. This may fail, cause incorrect answers, or produce other errors.\n"
     ]
    },
    {
     "data": {
      "text/plain": [
       "prepare_system (generic function with 1 method)"
      ]
     },
     "execution_count": 8,
     "metadata": {},
     "output_type": "execute_result"
    }
   ],
   "source": [
    "include(\"/Users/rouillie/Travail/Git/code/Julia/rur.jl\")"
   ]
  },
  {
   "cell_type": "code",
   "execution_count": 9,
   "id": "abc336c8",
   "metadata": {
    "editable": true,
    "slideshow": {
     "slide_type": ""
    },
    "tags": []
   },
   "outputs": [],
   "source": [
    "QQ=AbstractAlgebra.QQ\n",
    "polynomial_ring=AbstractAlgebra.polynomial_ring\n",
    "include(\"/Users/rouillie/Travail/Git/code/Data/Systems/phuoc1.jl\");"
   ]
  },
  {
   "cell_type": "code",
   "execution_count": 10,
   "id": "90dd81c5",
   "metadata": {
    "editable": true,
    "slideshow": {
     "slide_type": ""
    },
    "tags": []
   },
   "outputs": [],
   "source": [
    "sys_z=convert_sys_to_sys_z(sys);"
   ]
  },
  {
   "cell_type": "code",
   "execution_count": 11,
   "id": "083f366b-a320-456c-8481-6b559db5b13a",
   "metadata": {},
   "outputs": [
    {
     "name": "stdout",
     "output_type": "stream",
     "text": [
      "\n",
      "Separating vector 4022(4022)\n",
      "variable 3 is separating 4022elapsed CPU time: 20.536242 seconds\n"
     ]
    },
    {
     "data": {
      "text/plain": [
       "20.536242"
      ]
     },
     "execution_count": 11,
     "metadata": {},
     "output_type": "execute_result"
    }
   ],
   "source": [
    "CPUTime.CPUtic();\n",
    "dm,Dq,sys_T,_vars=prepare_system(sys_z, 27,R);\n",
    "CPUTime.CPUtoc()"
   ]
  },
  {
   "cell_type": "code",
   "execution_count": null,
   "id": "d618cb18-d218-4606-addb-825f79b430c5",
   "metadata": {},
   "outputs": [
    {
     "name": "stdout",
     "output_type": "stream",
     "text": [
      "[2,2](0)[2,4](0)[2,6](0)[2,8](0)[2,10](0)[2,12](0)[2,14](0)[2,16](0)[2,18](0)"
     ]
    }
   ],
   "source": [
    "CPUTime.CPUtic();\n",
    "test_param(sys_z, 28)\n",
    "CPUTime.CPUtoc()"
   ]
  },
  {
   "cell_type": "code",
   "execution_count": 353,
   "id": "43e963da-3a50-4108-83ef-b16816f17dfd",
   "metadata": {},
   "outputs": [],
   "source": [
    "#CPUTime.CPUtic();\n",
    "#dm,Dq,sys_T,_vars=prepare_system(sys_z, 27,R);\n",
    "#CPUTime.CPUtoc()"
   ]
  },
  {
   "cell_type": "code",
   "execution_count": 354,
   "id": "c64c55d3-f2f1-4135-b57e-eb463bcee8ee",
   "metadata": {},
   "outputs": [
    {
     "data": {
      "text/plain": [
       "4-element Vector{Symbol}:\n",
       " :x\n",
       " :y\n",
       " :z\n",
       " :t"
      ]
     },
     "execution_count": 354,
     "metadata": {},
     "output_type": "execute_result"
    }
   ],
   "source": [
    "_pr=UInt32(Primes.prevprime(2^27-1))\n",
    "_arithm=Groebner.ArithmeticZp(UInt64, UInt32, _pr)\n",
    "_graph,_t_learn,_t_v,_q,_i_xw,_t_xw,_pr,_gb_expvecs=learn_zdim_quo(sys_z,_pr,_arithm);\n",
    "_vars=AbstractAlgebra.symbols(R)"
   ]
  },
  {
   "cell_type": "code",
   "execution_count": 355,
   "id": "9b1ca934-0d4f-4320-99ee-4aa7ff12ba47",
   "metadata": {},
   "outputs": [],
   "source": [
    "_v,_gred,_index,_dg,_hom,_free_set = first_variable(_t_v,_i_xw,Int32(length(_vars)),_pr,_arithm);"
   ]
  },
  {
   "cell_type": "code",
   "execution_count": 356,
   "id": "5d01c192-f8b3-45d2-901c-9f49a797acfe",
   "metadata": {},
   "outputs": [
    {
     "name": "stdout",
     "output_type": "stream",
     "text": [
      "\n",
      " Dimension : 56"
     ]
    }
   ],
   "source": [
    "_m_b,_lt_b,_n_g=biv_lex(_t_v,_i_xw,copy(_gred),copy(_index),copy(_dg),copy(_hom),copy(_free_set),Int32(length(_vars)-1),_pr,_arithm);"
   ]
  },
  {
   "cell_type": "code",
   "execution_count": 357,
   "id": "7a09971d-4374-423b-aeb4-164ca13f83a1",
   "metadata": {},
   "outputs": [
    {
     "data": {
      "text/plain": [
       "4-element Vector{Vector{Vector{Int32}}}:\n",
       " [[0, 0, 0, 0, 0, 0, 0, 0, 0, 0  …  0, 0, 0, 0, 0, 0, 0, 0, 0, 0], [134217688, 0, 134217680, 0, 89478433, 0, 54681260, 0, 79536429, 0  …  0, 0, 0, 0, 0, 0, 0, 0, 0, 0]]\n",
       " [[51967411, 0, 85843400, 0, 81565223, 0, 35092332, 0, 107653752, 0  …  0, 0, 0, 0, 0, 0, 0, 0, 0, 0], [0, 0, 0, 0, 0, 0, 0, 0, 0, 0  …  0, 0, 0, 0, 0, 0, 0, 0, 0, 0], [134217688, 0, 89478457, 0, 44739232, 0, 1, 0, 0, 0  …  0, 0, 0, 0, 0, 0, 0, 0, 0, 0]]\n",
       " [[35257315, 0, 17758692, 0, 45097210, 0, 118312976, 0, 49241106, 0  …  0, 0, 0, 0, 0, 0, 0, 0, 0, 0], [0, 0, 0, 0, 0, 0, 0, 0, 0, 0  …  0, 0, 0, 0, 0, 0, 0, 0, 0, 0], [134217685, 0, 0, 0, 4, 0, 0, 0, 0, 0  …  0, 0, 0, 0, 0, 0, 0, 0, 0, 0], [0, 0, 0, 0, 0, 0, 0, 0, 0, 0  …  0, 0, 0, 0, 0, 0, 0, 0, 0, 0], [134217688, 0, 1, 0, 0, 0, 0, 0, 0, 0  …  0, 0, 0, 0, 0, 0, 0, 0, 0, 0]]\n",
       " [[0, 0, 0, 0, 0, 0, 0, 0, 0, 0  …  0, 0, 0, 0, 0, 0, 0, 0, 0, 0], [83886232, 0, 78294156, 0, 95071477, 0, 111847610, 0, 50330861, 0  …  0, 0, 0, 0, 0, 0, 0, 0, 0, 0], [0, 0, 0, 0, 0, 0, 0, 0, 0, 0  …  0, 0, 0, 0, 0, 0, 0, 0, 0, 0], [112, 0, 89478534, 0, 44739299, 0, 0, 0, 0, 0  …  0, 0, 0, 0, 0, 0, 0, 0, 0, 0], [0, 0, 0, 0, 0, 0, 0, 0, 0, 0  …  0, 0, 0, 0, 0, 0, 0, 0, 0, 0], [0, 0, 0, 0, 0, 0, 0, 0, 0, 0  …  0, 0, 0, 0, 0, 0, 0, 0, 0, 0], [0, 0, 0, 0, 0, 0, 0, 0, 0, 0  …  0, 0, 0, 0, 0, 0, 0, 0, 0, 0], [134217673, 0, 0, 0, 0, 0, 0, 0, 0, 0  …  0, 0, 0, 0, 0, 0, 0, 0, 0, 0], [0, 0, 0, 0, 0, 0, 0, 0, 0, 0  …  0, 0, 0, 0, 0, 0, 0, 0, 0, 0], [1, 0, 0, 0, 0, 0, 0, 0, 0, 0  …  0, 0, 0, 0, 0, 0, 0, 0, 0, 0]]"
      ]
     },
     "execution_count": 357,
     "metadata": {},
     "output_type": "execute_result"
    }
   ],
   "source": [
    "bl=convert_biv_lex_2_biv_pol(_n_g,_m_b,_lt_b,_pr)"
   ]
  },
  {
   "cell_type": "code",
   "execution_count": 358,
   "id": "4e087c67-b744-4cbe-9ddc-e04e0b642f27",
   "metadata": {},
   "outputs": [
    {
     "data": {
      "text/plain": [
       "2-element Vector{Vector{Int32}}:\n",
       " [0, 0, 0, 0, 0, 0, 0, 0, 0, 0  …  0, 0, 0, 0, 0, 0, 0, 0, 0, 0]\n",
       " [134217688, 0, 134217680, 0, 89478433, 0, 54681260, 0, 79536429, 0  …  0, 0, 0, 0, 0, 0, 0, 0, 0, 0]"
      ]
     },
     "execution_count": 358,
     "metadata": {},
     "output_type": "execute_result"
    }
   ],
   "source": [
    "bl[1]"
   ]
  },
  {
   "cell_type": "code",
   "execution_count": 359,
   "id": "3b2de836-de86-4280-b1f0-f5e9b3f3ecbc",
   "metadata": {},
   "outputs": [
    {
     "data": {
      "text/plain": [
       "5600"
      ]
     },
     "execution_count": 359,
     "metadata": {},
     "output_type": "execute_result"
    }
   ],
   "source": [
    "70*80"
   ]
  },
  {
   "cell_type": "code",
   "execution_count": null,
   "id": "506ada71-815e-4784-ae12-b8acc4d5ea93",
   "metadata": {},
   "outputs": [],
   "source": []
  }
 ],
 "metadata": {
  "kernelspec": {
   "display_name": "Julia 1.9.3",
   "language": "julia",
   "name": "julia-1.9"
  },
  "language_info": {
   "file_extension": ".jl",
   "mimetype": "application/julia",
   "name": "julia",
   "version": "1.9.3"
  }
 },
 "nbformat": 4,
 "nbformat_minor": 5
}
