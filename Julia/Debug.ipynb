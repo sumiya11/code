{
 "cells": [
  {
   "cell_type": "code",
   "execution_count": 2,
   "id": "61d85ee3-a989-427f-bf24-83cd6ad2ddc4",
   "metadata": {
    "editable": true,
    "slideshow": {
     "slide_type": ""
    },
    "tags": []
   },
   "outputs": [
    {
     "name": "stdout",
     "output_type": "stream",
     "text": [
      "\n",
      "Welcome to Nemo version 0.38.3\n",
      "\n",
      "Nemo comes with absolutely no warranty whatsoever\n"
     ]
    },
    {
     "data": {
      "text/plain": [
       "Main.Groebner"
      ]
     },
     "execution_count": 2,
     "metadata": {},
     "output_type": "execute_result"
    }
   ],
   "source": [
    "import AbstractAlgebra,Primes,LoopVectorization,CPUTime,HostCPUFeatures\n",
    "include(\"/Users/rouillie/Travail/Git/Groebner.jl/src/Groebner.jl\")"
   ]
  },
  {
   "cell_type": "code",
   "execution_count": 47,
   "id": "efb15b1c-dd09-4f4c-9f01-18b0693db194",
   "metadata": {
    "editable": true,
    "slideshow": {
     "slide_type": ""
    },
    "tags": []
   },
   "outputs": [
    {
     "name": "stderr",
     "output_type": "stream",
     "text": [
      "WARNING: redefinition of constant _gauss_reduct_jam. This may fail, cause incorrect answers, or produce other errors.\n"
     ]
    },
    {
     "data": {
      "text/plain": [
       "prepare_system (generic function with 1 method)"
      ]
     },
     "execution_count": 47,
     "metadata": {},
     "output_type": "execute_result"
    }
   ],
   "source": [
    "include(\"/Users/rouillie/Travail/Git/code/Julia/rur.jl\")"
   ]
  },
  {
   "cell_type": "code",
   "execution_count": 48,
   "id": "abc336c8",
   "metadata": {
    "editable": true,
    "slideshow": {
     "slide_type": ""
    },
    "tags": []
   },
   "outputs": [],
   "source": [
    "QQ=AbstractAlgebra.QQ\n",
    "polynomial_ring=AbstractAlgebra.polynomial_ring\n",
    "include(\"/Users/rouillie/Travail/Git/code/Data/Systems/caprasse.jl\");"
   ]
  },
  {
   "cell_type": "code",
   "execution_count": 49,
   "id": "90dd81c5",
   "metadata": {
    "editable": true,
    "slideshow": {
     "slide_type": ""
    },
    "tags": []
   },
   "outputs": [],
   "source": [
    "sys_z=convert_sys_to_sys_z(sys);"
   ]
  },
  {
   "cell_type": "code",
   "execution_count": 50,
   "id": "083f366b-a320-456c-8481-6b559db5b13a",
   "metadata": {},
   "outputs": [
    {
     "name": "stdout",
     "output_type": "stream",
     "text": [
      "\n",
      "Separating vector 46(56)\n",
      "variable 4 is NOT separating 20\n",
      "variable 3 is NOT separating 17\n",
      "variable 2 is NOT separating 20\n",
      "Warning : normalization of _Z \n",
      "variable 1 is NOT separating 17elapsed CPU time: 0.569854 seconds\n"
     ]
    },
    {
     "data": {
      "text/plain": [
       "0.569854"
      ]
     },
     "execution_count": 50,
     "metadata": {},
     "output_type": "execute_result"
    }
   ],
   "source": [
    "CPUTime.CPUtic();\n",
    "dm,Dq,sys_T,_vars=prepare_system(sys_z, 27,R);\n",
    "CPUTime.CPUtoc()"
   ]
  },
  {
   "cell_type": "code",
   "execution_count": 51,
   "id": "d618cb18-d218-4606-addb-825f79b430c5",
   "metadata": {},
   "outputs": [
    {
     "name": "stdout",
     "output_type": "stream",
     "text": [
      "[2,2](0)[2,4](0)[2,6](0)[2,8](0)[2,10](0)(1)elapsed CPU time: 0.318975 seconds\n"
     ]
    },
    {
     "data": {
      "text/plain": [
       "0.318975"
      ]
     },
     "execution_count": 51,
     "metadata": {},
     "output_type": "execute_result"
    }
   ],
   "source": [
    "CPUTime.CPUtic();\n",
    "qq=test_param(sys_T, 28)\n",
    "CPUTime.CPUtoc()"
   ]
  },
  {
   "cell_type": "code",
   "execution_count": 52,
   "id": "22512f7a-fed3-4a8b-8af2-2f8ede15d31d",
   "metadata": {},
   "outputs": [
    {
     "data": {
      "text/plain": [
       "5-element Vector{Vector{Rational{BigInt}}}:\n",
       " [17823066308207604300545597076416015625//1, 0//1, 5124577817654399394255009002685546875//1, 0//1, -797077165647162296448496482666015625//3, 0//1, 2227461695906815474367209674609375//1, 0//1, 24539199209334295028888064703125//1, 0//1  …  0//1, 55904247271661//1, 0//1, -65844616681//1, 0//1, 40253749//1, 0//1, -33575//3, 0//1, 1//1]\n",
       " [46327297379391998835567649841308593750//1, 0//1, 18398064366504312864410988037109375000//3, 0//1, -280978510383007423336296137324218750//3, 0//1, -656673453275629126703439582500000//1, 0//1, 6430710962289881036580119418750//1, 0//1  …  0//1, 11412481295421218//1, 0//1, -14494650335328//1, 0//1, 11352539402//1, 0//1, -12206744//3, 0//1, 1246//3]\n",
       " [18128756424601571491252624511718750000//1, 0//1, 4533281991281256188496101098632812500//3, 0//1, -24315776870448317156428816445312500//3, 0//1, -1070365275127655708638878859375000//1, 0//1, 10493026417575917986465921125000//1, 0//1  …  0//1, -20539642585483684//1, 0//1, 30802364787880//1, 0//1, -23345087960//1, 0//1, 24895652//3, 0//1, -3140//3]\n",
       " [-8941969050455279980530418395996093750//1, 0//1, 18451614819765253063783857666015625000//3, 0//1, 23923015628162596137264185878906250//1, 0//1, -2724814969437606314612398907500000//1, 0//1, 2568145926692079649584027481250//1, 0//1  …  0//1, 39138091981812986//3, 0//1, -13078715619872//1, 0//1, 9466630998//1, 0//1, -10855976//3, 0//1, 1154//3]\n",
       " [17100643477327413881047187805175781250//1, 0//1, 27280177072004886739791122583007812500//3, 0//1, -1102344615391285962986603075058593750//3, 0//1, 7543236877384525430719038390625000//3, 0//1, 26410520126676981199511112281250//1, 0//1  …  0//1, -3010145544685766//1, 0//1, 27939963545704//3, 0//1, -10344713210//1, 0//1, 14213684//3, 0//1, -2194//3]"
      ]
     },
     "execution_count": 52,
     "metadata": {},
     "output_type": "execute_result"
    }
   ],
   "source": [
    "qq"
   ]
  },
  {
   "cell_type": "code",
   "execution_count": 17,
   "id": "43e963da-3a50-4108-83ef-b16816f17dfd",
   "metadata": {},
   "outputs": [],
   "source": [
    "#CPUTime.CPUtic();\n",
    "#dm,Dq,sys_T,_vars=prepare_system(sys_z, 27,R);\n",
    "#CPUTime.CPUtoc()"
   ]
  },
  {
   "cell_type": "code",
   "execution_count": 20,
   "id": "c64c55d3-f2f1-4135-b57e-eb463bcee8ee",
   "metadata": {},
   "outputs": [],
   "source": [
    "_pr=UInt32(Primes.prevprime(2^27-1))\n",
    "_arithm=Groebner.ArithmeticZp(UInt64, UInt32, _pr)\n",
    "_graph,_t_learn,_t_v,_q,_i_xw,_t_xw,_pr,_gb_expvecs=learn_zdim_quo(sys_T,_pr,_arithm);"
   ]
  },
  {
   "cell_type": "code",
   "execution_count": 21,
   "id": "9b1ca934-0d4f-4320-99ee-4aa7ff12ba47",
   "metadata": {},
   "outputs": [],
   "source": [
    "_v,_gred,_index,_dg,_hom,_free_set = first_variable(_t_v,_i_xw,Int32(length(_vars)),_pr,_arithm);"
   ]
  },
  {
   "cell_type": "code",
   "execution_count": 25,
   "id": "5614eed1-3af2-4e96-b187-6cdaf16f845b",
   "metadata": {},
   "outputs": [
    {
     "data": {
      "text/plain": [
       "48-element Vector{Int32}:\n",
       "  83812126\n",
       "         0\n",
       "  11786636\n",
       "         0\n",
       "  50105601\n",
       "         0\n",
       "  14453564\n",
       "         0\n",
       "   9968771\n",
       "         0\n",
       "  77140217\n",
       "         0\n",
       "  53073576\n",
       "         ⋮\n",
       "  18797031\n",
       "         0\n",
       "  89552065\n",
       "         0\n",
       "  98789978\n",
       "         0\n",
       "  18046593\n",
       "         0\n",
       " 104189283\n",
       "         0\n",
       " 134205025\n",
       "         0"
      ]
     },
     "execution_count": 25,
     "metadata": {},
     "output_type": "execute_result"
    }
   ],
   "source": [
    "Vector{Int32}(_v)"
   ]
  },
  {
   "cell_type": "code",
   "execution_count": 9,
   "id": "5d01c192-f8b3-45d2-901c-9f49a797acfe",
   "metadata": {},
   "outputs": [],
   "source": [
    "_m_b,_lt_b,_n_g=biv_lex(_t_v,_i_xw,copy(_gred),copy(_index),copy(_dg),copy(_hom),copy(_free_set),Int32(length(_vars)-1),_pr,_arithm);"
   ]
  },
  {
   "cell_type": "code",
   "execution_count": 357,
   "id": "7a09971d-4374-423b-aeb4-164ca13f83a1",
   "metadata": {},
   "outputs": [
    {
     "data": {
      "text/plain": [
       "4-element Vector{Vector{Vector{Int32}}}:\n",
       " [[0, 0, 0, 0, 0, 0, 0, 0, 0, 0  …  0, 0, 0, 0, 0, 0, 0, 0, 0, 0], [134217688, 0, 134217680, 0, 89478433, 0, 54681260, 0, 79536429, 0  …  0, 0, 0, 0, 0, 0, 0, 0, 0, 0]]\n",
       " [[51967411, 0, 85843400, 0, 81565223, 0, 35092332, 0, 107653752, 0  …  0, 0, 0, 0, 0, 0, 0, 0, 0, 0], [0, 0, 0, 0, 0, 0, 0, 0, 0, 0  …  0, 0, 0, 0, 0, 0, 0, 0, 0, 0], [134217688, 0, 89478457, 0, 44739232, 0, 1, 0, 0, 0  …  0, 0, 0, 0, 0, 0, 0, 0, 0, 0]]\n",
       " [[35257315, 0, 17758692, 0, 45097210, 0, 118312976, 0, 49241106, 0  …  0, 0, 0, 0, 0, 0, 0, 0, 0, 0], [0, 0, 0, 0, 0, 0, 0, 0, 0, 0  …  0, 0, 0, 0, 0, 0, 0, 0, 0, 0], [134217685, 0, 0, 0, 4, 0, 0, 0, 0, 0  …  0, 0, 0, 0, 0, 0, 0, 0, 0, 0], [0, 0, 0, 0, 0, 0, 0, 0, 0, 0  …  0, 0, 0, 0, 0, 0, 0, 0, 0, 0], [134217688, 0, 1, 0, 0, 0, 0, 0, 0, 0  …  0, 0, 0, 0, 0, 0, 0, 0, 0, 0]]\n",
       " [[0, 0, 0, 0, 0, 0, 0, 0, 0, 0  …  0, 0, 0, 0, 0, 0, 0, 0, 0, 0], [83886232, 0, 78294156, 0, 95071477, 0, 111847610, 0, 50330861, 0  …  0, 0, 0, 0, 0, 0, 0, 0, 0, 0], [0, 0, 0, 0, 0, 0, 0, 0, 0, 0  …  0, 0, 0, 0, 0, 0, 0, 0, 0, 0], [112, 0, 89478534, 0, 44739299, 0, 0, 0, 0, 0  …  0, 0, 0, 0, 0, 0, 0, 0, 0, 0], [0, 0, 0, 0, 0, 0, 0, 0, 0, 0  …  0, 0, 0, 0, 0, 0, 0, 0, 0, 0], [0, 0, 0, 0, 0, 0, 0, 0, 0, 0  …  0, 0, 0, 0, 0, 0, 0, 0, 0, 0], [0, 0, 0, 0, 0, 0, 0, 0, 0, 0  …  0, 0, 0, 0, 0, 0, 0, 0, 0, 0], [134217673, 0, 0, 0, 0, 0, 0, 0, 0, 0  …  0, 0, 0, 0, 0, 0, 0, 0, 0, 0], [0, 0, 0, 0, 0, 0, 0, 0, 0, 0  …  0, 0, 0, 0, 0, 0, 0, 0, 0, 0], [1, 0, 0, 0, 0, 0, 0, 0, 0, 0  …  0, 0, 0, 0, 0, 0, 0, 0, 0, 0]]"
      ]
     },
     "execution_count": 357,
     "metadata": {},
     "output_type": "execute_result"
    }
   ],
   "source": [
    "bl=convert_biv_lex_2_biv_pol(_n_g,_m_b,_lt_b,_pr)"
   ]
  },
  {
   "cell_type": "code",
   "execution_count": 358,
   "id": "4e087c67-b744-4cbe-9ddc-e04e0b642f27",
   "metadata": {},
   "outputs": [
    {
     "data": {
      "text/plain": [
       "2-element Vector{Vector{Int32}}:\n",
       " [0, 0, 0, 0, 0, 0, 0, 0, 0, 0  …  0, 0, 0, 0, 0, 0, 0, 0, 0, 0]\n",
       " [134217688, 0, 134217680, 0, 89478433, 0, 54681260, 0, 79536429, 0  …  0, 0, 0, 0, 0, 0, 0, 0, 0, 0]"
      ]
     },
     "execution_count": 358,
     "metadata": {},
     "output_type": "execute_result"
    }
   ],
   "source": [
    "bl[1]"
   ]
  },
  {
   "cell_type": "code",
   "execution_count": 359,
   "id": "3b2de836-de86-4280-b1f0-f5e9b3f3ecbc",
   "metadata": {},
   "outputs": [
    {
     "data": {
      "text/plain": [
       "5600"
      ]
     },
     "execution_count": 359,
     "metadata": {},
     "output_type": "execute_result"
    }
   ],
   "source": [
    "70*80"
   ]
  },
  {
   "cell_type": "code",
   "execution_count": null,
   "id": "506ada71-815e-4784-ae12-b8acc4d5ea93",
   "metadata": {},
   "outputs": [],
   "source": []
  }
 ],
 "metadata": {
  "kernelspec": {
   "display_name": "Julia 1.9.3",
   "language": "julia",
   "name": "julia-1.9"
  },
  "language_info": {
   "file_extension": ".jl",
   "mimetype": "application/julia",
   "name": "julia",
   "version": "1.9.3"
  }
 },
 "nbformat": 4,
 "nbformat_minor": 5
}
