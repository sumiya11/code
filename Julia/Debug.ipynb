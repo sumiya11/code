{
 "cells": [
  {
   "cell_type": "code",
   "execution_count": 1,
   "id": "61d85ee3-a989-427f-bf24-83cd6ad2ddc4",
   "metadata": {
    "editable": true,
    "slideshow": {
     "slide_type": ""
    },
    "tags": []
   },
   "outputs": [
    {
     "name": "stdout",
     "output_type": "stream",
     "text": [
      "\n",
      "Welcome to Nemo version 0.41.3\n",
      "\n",
      "Nemo comes with absolutely no warranty whatsoever\n"
     ]
    },
    {
     "data": {
      "text/plain": [
       "Main.Groebner"
      ]
     },
     "execution_count": 1,
     "metadata": {},
     "output_type": "execute_result"
    }
   ],
   "source": [
    "import AbstractAlgebra,Primes,LoopVectorization,CPUTime,HostCPUFeatures\n",
    "include(\"/Users/rouillie/Travail/Git/Groebner.jl/src/Groebner.jl\")"
   ]
  },
  {
   "cell_type": "code",
   "execution_count": 3,
   "id": "1ed21b31-2c07-4595-853e-6eac9bc13e02",
   "metadata": {},
   "outputs": [],
   "source": [
    "#versioninfo()\n",
    "#using Pkg\n",
    "#Pkg.status()"
   ]
  },
  {
   "cell_type": "code",
   "execution_count": 2,
   "id": "efb15b1c-dd09-4f4c-9f01-18b0693db194",
   "metadata": {
    "editable": true,
    "slideshow": {
     "slide_type": ""
    },
    "tags": []
   },
   "outputs": [
    {
     "data": {
      "text/plain": [
       "zdim_parameterization (generic function with 2 methods)"
      ]
     },
     "execution_count": 2,
     "metadata": {},
     "output_type": "execute_result"
    }
   ],
   "source": [
    "include(\"/Users/rouillie/Travail/Git/code/Julia/rur.jl\")"
   ]
  },
  {
   "cell_type": "code",
   "execution_count": 12,
   "id": "1224e3d1-7de1-4507-9e97-7ea406c12d73",
   "metadata": {},
   "outputs": [],
   "source": [
    "QQ=AbstractAlgebra.QQ\n",
    "polynomial_ring=AbstractAlgebra.polynomial_ring\n",
    "include(\"/Users/rouillie/Travail/Git/code/Data/Systems/robot.jl\");"
   ]
  },
  {
   "cell_type": "code",
   "execution_count": 13,
   "id": "8e4d8ddb-5893-4c63-9a00-ca8b7076336f",
   "metadata": {},
   "outputs": [
    {
     "name": "stdout",
     "output_type": "stream",
     "text": [
      "\n",
      "Separating vector 40(40)\n",
      "variable 6 is separating 40[2,2](0)[2,4](0)[2,6](0)[2,8](0)[2,10](0)[2,12](0)[2,14](0)[2,16](0)[2,18](0)[2,20](0)[2,22](0)[2,24](0)[2,26](0)[2,28](0)[2,30](0)[3,33](0)[3,36](0)[3,39](0)[3,42](0)[4,46](0)[4,50](0)[5,55](0)[5,60](0)[6,66](0)[6,72](0)[7,79](0)[7,86](0)[8,94](0)[9,103](0)[10,113](0)[11,124](0)[12,136](0)[13,149](0)[14,163](0)[16,179](0)[17,196](0)[19,215](0)(1)[21,236](1)[23,259](1)[25,284](1)[28,312](1)[31,343](1)[34,377](1)[37,414](1)[41,455](1)[45,500](1)[50,550](1)[55,605](1)elapsed CPU time: 0.664235 seconds\n"
     ]
    },
    {
     "data": {
      "text/plain": [
       "0.664235"
      ]
     },
     "execution_count": 13,
     "metadata": {},
     "output_type": "execute_result"
    }
   ],
   "source": [
    "CPUTime.CPUtic();\n",
    "qq=zdim_parameterization(sys);\n",
    "CPUTime.CPUtoc()"
   ]
  },
  {
   "cell_type": "code",
   "execution_count": null,
   "id": "e8e25ac9-acf0-45f9-8a90-ecf73312fd2f",
   "metadata": {},
   "outputs": [],
   "source": []
  }
 ],
 "metadata": {
  "kernelspec": {
   "display_name": "Julia 1.10.0",
   "language": "julia",
   "name": "julia-1.10"
  },
  "language_info": {
   "file_extension": ".jl",
   "mimetype": "application/julia",
   "name": "julia",
   "version": "1.10.0"
  }
 },
 "nbformat": 4,
 "nbformat_minor": 5
}
