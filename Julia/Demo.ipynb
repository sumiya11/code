{
 "cells": [
  {
   "cell_type": "code",
   "execution_count": 9,
   "id": "fb958bfe-bf69-4673-baba-c8ef3c475ea1",
   "metadata": {},
   "outputs": [],
   "source": [
    "#include(\"rur_packages.jl\");"
   ]
  },
  {
   "cell_type": "code",
   "execution_count": 1,
   "id": "61d85ee3-a989-427f-bf24-83cd6ad2ddc4",
   "metadata": {
    "editable": true,
    "slideshow": {
     "slide_type": ""
    },
    "tags": []
   },
   "outputs": [
    {
     "name": "stdout",
     "output_type": "stream",
     "text": [
      "\n",
      "Welcome to Nemo version 0.41.3\n",
      "\n",
      "Nemo comes with absolutely no warranty whatsoever\n"
     ]
    },
    {
     "data": {
      "text/plain": [
       "Main.Groebner"
      ]
     },
     "execution_count": 1,
     "metadata": {},
     "output_type": "execute_result"
    }
   ],
   "source": [
    "import AbstractAlgebra,Primes,LoopVectorization,CPUTime,HostCPUFeatures\n",
    "include(\"/Users/rouillie/Travail/Git/Groebner.jl/src/Groebner.jl\")"
   ]
  },
  {
   "cell_type": "code",
   "execution_count": 10,
   "id": "efb15b1c-dd09-4f4c-9f01-18b0693db194",
   "metadata": {
    "editable": true,
    "slideshow": {
     "slide_type": ""
    },
    "tags": []
   },
   "outputs": [
    {
     "name": "stderr",
     "output_type": "stream",
     "text": [
      "WARNING: redefinition of constant Main._enable_product_ord. This may fail, cause incorrect answers, or produce other errors.\n",
      "WARNING: redefinition of constant Main._gauss_reduct_jam. This may fail, cause incorrect answers, or produce other errors.\n"
     ]
    },
    {
     "data": {
      "text/plain": [
       "zdim_parameterization (generic function with 4 methods)"
      ]
     },
     "execution_count": 10,
     "metadata": {},
     "output_type": "execute_result"
    }
   ],
   "source": [
    "include(\"/Users/rouillie/Travail/Git/code/Julia/rur.jl\")"
   ]
  },
  {
   "cell_type": "code",
   "execution_count": 11,
   "id": "abc336c8",
   "metadata": {
    "editable": true,
    "slideshow": {
     "slide_type": ""
    },
    "tags": []
   },
   "outputs": [
    {
     "data": {
      "text/plain": [
       "polynomial_ring (generic function with 7 methods)"
      ]
     },
     "execution_count": 11,
     "metadata": {},
     "output_type": "execute_result"
    }
   ],
   "source": [
    "QQ=AbstractAlgebra.QQ\n",
    "polynomial_ring=AbstractAlgebra.polynomial_ring\n"
   ]
  },
  {
   "cell_type": "code",
   "execution_count": 12,
   "id": "90dd81c5",
   "metadata": {
    "editable": true,
    "slideshow": {
     "slide_type": ""
    },
    "tags": []
   },
   "outputs": [
    {
     "name": "stdout",
     "output_type": "stream",
     "text": [
      "\n",
      "variable 11 is separating 1024(1024)[2,2](0)[2,4](0)[2,6](0)[2,8](0)[2,10](0)[2,12](0)[2,14](0)[2,16](0)[2,18](0)[2,20](0)[2,22](0)[2,24](0)[2,26](0)[2,28](0)[2,30](0)[3,33](0)[3,36](0)[3,39](0)[3,42](0)[4,46](0)[4,50](0)[5,55](0)[5,60](0)[6,66](0)[6,72](0)[7,79](0)[7,86](0)[8,94](0)[9,103](0)[10,113](0)[11,124](0)[12,136](0)[13,149](0)[14,163](0)[16,179](0)[17,196](0)[19,215](0)[21,236](0)[23,259](0)[25,284](0)[28,312](0)[31,343](0)[34,377](0)[37,414](0)[41,455](0)(1)elapsed CPU time: 182.755852 seconds\n"
     ]
    },
    {
     "data": {
      "text/plain": [
       "182.755852"
      ]
     },
     "execution_count": 12,
     "metadata": {},
     "output_type": "execute_result"
    }
   ],
   "source": [
    "include(\"/Users/rouillie/Travail/Git/code/Data/Systems/katsura11.jl\");\n",
    "CPUTime.CPUtic();\n",
    "qq=zdim_parameterization(sys);\n",
    "CPUTime.CPUtoc()"
   ]
  },
  {
   "cell_type": "code",
   "execution_count": 12,
   "id": "c850baae-66e1-44bb-af56-5bed2f9d1e81",
   "metadata": {},
   "outputs": [
    {
     "data": {
      "text/plain": [
       "5-element Vector{Vector{Rational{BigInt}}}:\n",
       " [-43967738494244236022581119000228501940429413616306422432036225, 0, 170448373099768704903851572085895118307831521530677825666646, 0, 750321438144246805238608838935931811219842205912185699718, 0, -1375273481392419278406985128136438509823476523199908890, 0, 3934630958589402098923717178841281688329586428077186//9, 0  …  0, 73975041533251126826//3, 0, -8290148727516502//9, 0, 196334994634//9, 0, -737602//3, 0, 1]\n",
       " [8967923157115966993055938509682880844392673652766310521676960, 0, 66539428137610125570144002766563604838934816840420232396960, 0, -149582052081423720425159319455477494560054941971365616608, 0, 93765676513772328674698812935198003966597711061872928, 0, -11019533467291510581521921625845642858433666510816, 0  …  0, 490656106471594818403424//9, 0, -21271825038633577888//9, 0, 565731285729376//9, 0, -7645023008//9, 0, 12448//3]\n",
       " [-13991178265566582394729506839489170511871937267230430336566120, 0, 1838318814468186235271068423656823454511880564750450165116, 0, 242127163397400105226981355763866980310139473254638181056, 0, -309018362527255427378227122968332240748121237827488732, 0, 232255217141230862187624229975946089303793164514072//3, 0  …  0, -81322889158256524995484//3, 0, 893908257719761080, 0, -76078327498340//3, 0, 1349177072//3, 0, -2804]\n",
       " [1918958545771121668205551721379952984639789685788629637007040, 0, -109545049049080894695534892261587274122830870813624481681600, 0, -33689448768462937774112178894132486946074439713155987520, 0, 262429169852824706105048218237710206267222829399210048, 0, -333799809284330178058925037438480119681392780399808//3, 0  …  0, 450445465976148727321280//9, 0, -1856302667251563200, 0, 147544876792384//3, 0, -6423309760//9, 0, 11072//3]\n",
       " [-9546660215466791819860527610220489635291513446345526509792720, 0, 6219445410459611499058609038014167840457302617349247474172, 0, 5934320164196954290088740625139969845957799950483294952, 0, 33302885890203598275067463701084620149290963471227188, 0, -99658395075504868818533405914106559529959347831840//3, 0  …  0, -103658692903831144644044//3, 0, 1669590584765644800, 0, -156828204380164//3, 0, 2400400408//3, 0, -4324]"
      ]
     },
     "execution_count": 12,
     "metadata": {},
     "output_type": "execute_result"
    }
   ],
   "source": []
  },
  {
   "cell_type": "code",
   "execution_count": null,
   "id": "cf352bf1-38b5-43d4-84f3-d3792f35462c",
   "metadata": {},
   "outputs": [],
   "source": []
  }
 ],
 "metadata": {
  "kernelspec": {
   "display_name": "Julia 1.10.0",
   "language": "julia",
   "name": "julia-1.10"
  },
  "language_info": {
   "file_extension": ".jl",
   "mimetype": "application/julia",
   "name": "julia",
   "version": "1.10.0"
  }
 },
 "nbformat": 4,
 "nbformat_minor": 5
}
