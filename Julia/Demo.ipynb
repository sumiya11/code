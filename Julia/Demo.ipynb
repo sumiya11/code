{
 "cells": [
  {
   "cell_type": "code",
   "execution_count": 9,
   "id": "fb958bfe-bf69-4673-baba-c8ef3c475ea1",
   "metadata": {},
   "outputs": [],
   "source": [
    "#include(\"rur_packages.jl\");"
   ]
  },
  {
   "cell_type": "code",
   "execution_count": 5,
   "id": "2edf44dd-8e69-4d27-a8e4-47241c125de3",
   "metadata": {},
   "outputs": [
    {
     "data": {
      "text/plain": [
       "-8"
      ]
     },
     "execution_count": 5,
     "metadata": {},
     "output_type": "execute_result"
    }
   ],
   "source": [
    "rand(-11:11)\n"
   ]
  },
  {
   "cell_type": "code",
   "execution_count": 1,
   "id": "61d85ee3-a989-427f-bf24-83cd6ad2ddc4",
   "metadata": {
    "editable": true,
    "slideshow": {
     "slide_type": ""
    },
    "tags": []
   },
   "outputs": [
    {
     "name": "stdout",
     "output_type": "stream",
     "text": [
      "\n",
      "Welcome to Nemo version 0.41.3\n",
      "\n",
      "Nemo comes with absolutely no warranty whatsoever\n"
     ]
    },
    {
     "data": {
      "text/plain": [
       "Main.Groebner"
      ]
     },
     "execution_count": 1,
     "metadata": {},
     "output_type": "execute_result"
    }
   ],
   "source": [
    "import AbstractAlgebra,Primes,LoopVectorization,CPUTime,HostCPUFeatures\n",
    "include(\"/Users/rouillie/Travail/Git/Groebner.jl/src/Groebner.jl\")"
   ]
  },
  {
   "cell_type": "code",
   "execution_count": 2,
   "id": "efb15b1c-dd09-4f4c-9f01-18b0693db194",
   "metadata": {
    "editable": true,
    "slideshow": {
     "slide_type": ""
    },
    "tags": []
   },
   "outputs": [
    {
     "data": {
      "text/plain": [
       "zdim_parameterization (generic function with 4 methods)"
      ]
     },
     "execution_count": 2,
     "metadata": {},
     "output_type": "execute_result"
    }
   ],
   "source": [
    "include(\"/Users/rouillie/Travail/Git/code/Julia/rur.jl\")"
   ]
  },
  {
   "cell_type": "code",
   "execution_count": 3,
   "id": "abc336c8",
   "metadata": {
    "editable": true,
    "slideshow": {
     "slide_type": ""
    },
    "tags": []
   },
   "outputs": [
    {
     "name": "stdout",
     "output_type": "stream",
     "text": [
      "\n",
      "Separating vector 32(56)\n",
      "[2,2](0)[2,4](0)[2,6](0)[2,8](0)[2,10](0)[2,12](0)[2,14](0)[2,16](0)(1)"
     ]
    }
   ],
   "source": [
    "QQ=AbstractAlgebra.QQ\n",
    "polynomial_ring=AbstractAlgebra.polynomial_ring\n",
    "include(\"/Users/rouillie/Travail/Git/code/Data/Systems/caprasse.jl\");\n",
    "qq=zdim_parameterization(sys);"
   ]
  },
  {
   "cell_type": "code",
   "execution_count": null,
   "id": "c850baae-66e1-44bb-af56-5bed2f9d1e81",
   "metadata": {},
   "outputs": [
    {
     "name": "stdout",
     "output_type": "stream",
     "text": [
      "\n",
      "Separating vector 2880(2880)\n",
      "[2,2](0)[2,4](0)[2,6](0)[2,8](0)[2,10](0)[2,12](0)[2,14](0)[2,16](0)[2,18](0)[2,20](0)[2,22](0)[2,24](0)[2,26](0)[2,28](0)[2,30](0)[3,33](0)[3,36](0)[3,39](0)[3,42](0)[4,46](0)[4,50](0)[5,55](0)[5,60](0)[6,66](0)[6,72](0)[7,79](0)[7,86](0)[8,94](0)[9,103](0)\n",
      "*** Bad prime detected in apply_zdim ***\n",
      "\n",
      "*** bad prime for Gbasis detected ***\n",
      "[10,112](0)[11,123](0)[12,135](0)\n",
      "*** Bad prime detected in apply_zdim ***\n",
      "\n",
      "*** bad prime for Gbasis detected ***\n",
      "[13,147](0)[14,161](0)[16,177](0)\n",
      "*** Bad prime detected in apply_zdim ***\n",
      "\n",
      "*** bad prime for Gbasis detected ***\n",
      "[17,193](0)[19,212](0)[21,233](0)[23,256](0)[25,281](0)[28,309](0)[30,339](0)\n",
      "*** Bad prime detected in apply_zdim ***\n",
      "\n",
      "*** bad prime for Gbasis detected ***\n",
      "[33,371](0)\n",
      "*** Bad prime detected in apply_zdim ***\n",
      "\n",
      "*** bad prime for Gbasis detected ***\n",
      "[37,407](0)\n",
      "*** Bad prime detected in apply_zdim ***\n",
      "\n",
      "*** bad prime for Gbasis detected ***\n",
      "[40,446](0)[44,490](0)\n",
      "*** Bad prime detected in apply_zdim ***\n",
      "\n",
      "*** bad prime for Gbasis detected ***\n",
      "[49,538](0)\n",
      "*** Bad prime detected in apply_zdim ***\n",
      "\n",
      "*** bad prime for Gbasis detected ***\n",
      "[53,590](0)[59,649](0)\n",
      "*** Bad prime detected in apply_zdim ***\n",
      "\n",
      "*** bad prime for Gbasis detected ***\n",
      "[64,712](0)\n",
      "*** Bad prime detected in apply_zdim ***\n",
      "\n",
      "*** bad prime for Gbasis detected ***\n",
      "[71,782](0)[78,860](0)[86,946](0)\n",
      "*** Bad prime detected in apply_zdim ***\n",
      "\n",
      "*** bad prime for Gbasis detected ***\n",
      "[94,1039](0)\n",
      "*** Bad prime detected in apply_zdim ***\n",
      "\n",
      "*** bad prime for Gbasis detected ***\n",
      "\n",
      "*** Bad prime detected in apply_zdim ***\n"
     ]
    }
   ],
   "source": [
    "include(\"/Users/rouillie/Travail/Git/code/Data/Systems/reimer7.jl\");\n",
    "CPUTime.CPUtic();\n",
    "qq=zdim_parameterization(sys,Int32(27));\n",
    "CPUTime.CPUtoc()"
   ]
  },
  {
   "cell_type": "code",
   "execution_count": 3,
   "id": "cf352bf1-38b5-43d4-84f3-d3792f35462c",
   "metadata": {},
   "outputs": [
    {
     "data": {
      "text/plain": [
       "3"
      ]
     },
     "execution_count": 3,
     "metadata": {},
     "output_type": "execute_result"
    }
   ],
   "source": [
    "3"
   ]
  },
  {
   "cell_type": "code",
   "execution_count": null,
   "id": "3a143592-9362-409e-b35a-b7a19b2ffdf4",
   "metadata": {},
   "outputs": [],
   "source": []
  }
 ],
 "metadata": {
  "kernelspec": {
   "display_name": "Julia 1.10.0",
   "language": "julia",
   "name": "julia-1.10"
  },
  "language_info": {
   "file_extension": ".jl",
   "mimetype": "application/julia",
   "name": "julia",
   "version": "1.10.0"
  }
 },
 "nbformat": 4,
 "nbformat_minor": 5
}
