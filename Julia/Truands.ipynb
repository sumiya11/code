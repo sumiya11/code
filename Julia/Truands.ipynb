{
 "cells": [
  {
   "cell_type": "code",
   "execution_count": 2,
   "id": "5286370f-761b-4499-9f18-d6833fd9e1fa",
   "metadata": {},
   "outputs": [],
   "source": [
    "#using Pkg\n",
    "#Pkg.update(\"AlgebraicSolving\")"
   ]
  },
  {
   "cell_type": "code",
   "execution_count": 10,
   "id": "21d5df36-d620-4d9a-8c24-c6716c21cd5a",
   "metadata": {},
   "outputs": [],
   "source": [
    "using AlgebraicSolving,CPUTime"
   ]
  },
  {
   "cell_type": "code",
   "execution_count": 11,
   "id": "9b0357d0-eae1-49bd-98c5-f2ad0710fc2c",
   "metadata": {},
   "outputs": [],
   "source": [
    "include(\"/Users/rouillie/Travail/Git/code/Data/Systems/phuoc1.jl\");"
   ]
  },
  {
   "cell_type": "code",
   "execution_count": null,
   "id": "8869c51d-3d77-4e11-8862-b257b622b918",
   "metadata": {},
   "outputs": [],
   "source": [
    "CPUtic();\n",
    "I=Ideal(sys);\n",
    "rr=rational_parametrization(I);\n",
    "CPUtoc();"
   ]
  },
  {
   "cell_type": "code",
   "execution_count": null,
   "id": "cc229eca-5558-4d9f-998c-0ece8c17452a",
   "metadata": {},
   "outputs": [],
   "source": []
  }
 ],
 "metadata": {
  "kernelspec": {
   "display_name": "Julia 1.9.3",
   "language": "julia",
   "name": "julia-1.9"
  },
  "language_info": {
   "file_extension": ".jl",
   "mimetype": "application/julia",
   "name": "julia",
   "version": "1.9.3"
  }
 },
 "nbformat": 4,
 "nbformat_minor": 5
}
