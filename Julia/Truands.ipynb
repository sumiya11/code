{
 "cells": [
  {
   "cell_type": "code",
   "execution_count": 13,
   "id": "5286370f-761b-4499-9f18-d6833fd9e1fa",
   "metadata": {},
   "outputs": [
    {
     "name": "stderr",
     "output_type": "stream",
     "text": [
      "\u001b[32m\u001b[1m    Updating\u001b[22m\u001b[39m registry at `~/.julia/registries/General.toml`\n",
      "\u001b[32m\u001b[1m   Installed\u001b[22m\u001b[39m AlgebraicSolving ─ v0.4.8\n",
      "\u001b[32m\u001b[1m    Updating\u001b[22m\u001b[39m `~/.julia/environments/v1.9/Project.toml`\n",
      "  \u001b[90m[66b61cbe] \u001b[39m\u001b[93m↑ AlgebraicSolving v0.4.7 ⇒ v0.4.8\u001b[39m\n",
      "\u001b[32m\u001b[1m    Updating\u001b[22m\u001b[39m `~/.julia/environments/v1.9/Manifest.toml`\n",
      "  \u001b[90m[66b61cbe] \u001b[39m\u001b[93m↑ AlgebraicSolving v0.4.7 ⇒ v0.4.8\u001b[39m\n",
      "\u001b[32m\u001b[1mPrecompiling\u001b[22m\u001b[39m project...\n",
      "\u001b[33m  ✓ \u001b[39mAlgebraicSolving\n",
      "  1 dependency successfully precompiled in 2 seconds. 240 already precompiled.\n",
      "  \u001b[33m1\u001b[39m dependency precompiled but a different version is currently loaded. Restart julia to access the new version\n"
     ]
    }
   ],
   "source": [
    "using Pkg\n",
    "Pkg.update(\"AlgebraicSolving\")"
   ]
  },
  {
   "cell_type": "code",
   "execution_count": 10,
   "id": "21d5df36-d620-4d9a-8c24-c6716c21cd5a",
   "metadata": {},
   "outputs": [],
   "source": [
    "using AlgebraicSolving,CPUTime"
   ]
  },
  {
   "cell_type": "code",
   "execution_count": 16,
   "id": "9b0357d0-eae1-49bd-98c5-f2ad0710fc2c",
   "metadata": {},
   "outputs": [],
   "source": [
    "include(\"/Users/rouillie/Travail/Git/code/Data/Systems/henrion6.jl\");"
   ]
  },
  {
   "cell_type": "code",
   "execution_count": 17,
   "id": "8869c51d-3d77-4e11-8862-b257b622b918",
   "metadata": {},
   "outputs": [
    {
     "name": "stdout",
     "output_type": "stream",
     "text": [
      "elapsed CPU time: 96.802125 seconds\n"
     ]
    }
   ],
   "source": [
    "CPUtic();\n",
    "I=Ideal(sys);\n",
    "rr=rational_parametrization(I);\n",
    "CPUtoc();"
   ]
  },
  {
   "cell_type": "code",
   "execution_count": null,
   "id": "cc229eca-5558-4d9f-998c-0ece8c17452a",
   "metadata": {},
   "outputs": [],
   "source": []
  }
 ],
 "metadata": {
  "kernelspec": {
   "display_name": "Julia 1.9.3",
   "language": "julia",
   "name": "julia-1.9"
  },
  "language_info": {
   "file_extension": ".jl",
   "mimetype": "application/julia",
   "name": "julia",
   "version": "1.9.3"
  }
 },
 "nbformat": 4,
 "nbformat_minor": 5
}
