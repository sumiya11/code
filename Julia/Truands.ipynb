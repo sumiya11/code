{
 "cells": [
  {
   "cell_type": "code",
   "execution_count": 2,
   "id": "5286370f-761b-4499-9f18-d6833fd9e1fa",
   "metadata": {},
   "outputs": [],
   "source": [
    "#using Pkg\n",
    "#Pkg.update(\"AlgebraicSolving\")"
   ]
  },
  {
   "cell_type": "code",
   "execution_count": 2,
   "id": "21d5df36-d620-4d9a-8c24-c6716c21cd5a",
   "metadata": {},
   "outputs": [],
   "source": [
    "using AlgebraicSolving,CPUTime"
   ]
  },
  {
   "cell_type": "code",
   "execution_count": 3,
   "id": "9b0357d0-eae1-49bd-98c5-f2ad0710fc2c",
   "metadata": {},
   "outputs": [],
   "source": [
    "include(\"/Users/rouillie/Travail/Git/rur/Data/Systems/reimer6.jl\");"
   ]
  },
  {
   "cell_type": "code",
   "execution_count": 4,
   "id": "8869c51d-3d77-4e11-8862-b257b622b918",
   "metadata": {},
   "outputs": [
    {
     "name": "stdout",
     "output_type": "stream",
     "text": [
      "elapsed CPU time: 35.884254 seconds\n"
     ]
    }
   ],
   "source": [
    "CPUtic();\n",
    "I=Ideal(sys);\n",
    "rr=rational_parametrization(I);\n",
    "CPUtoc();"
   ]
  },
  {
   "cell_type": "code",
   "execution_count": 8,
   "id": "0b34c040-60f4-49b4-95b4-39e96cf7d662",
   "metadata": {
    "editable": true,
    "slideshow": {
     "slide_type": ""
    },
    "tags": []
   },
   "outputs": [
    {
     "data": {
      "text/plain": [
       "318.15999999999997"
      ]
     },
     "execution_count": 8,
     "metadata": {},
     "output_type": "execute_result"
    }
   ],
   "source": [
    "388*0.82"
   ]
  },
  {
   "cell_type": "code",
   "execution_count": 15,
   "id": "016d4aba-f5f7-4f1a-8012-7403a3106da4",
   "metadata": {},
   "outputs": [
    {
     "data": {
      "text/plain": [
       "AlgebraicSolving.RationalParametrization"
      ]
     },
     "execution_count": 15,
     "metadata": {},
     "output_type": "execute_result"
    }
   ],
   "source": [
    "typeof(rr)"
   ]
  },
  {
   "cell_type": "code",
   "execution_count": null,
   "id": "d4912d3d-3c9f-48a3-81a2-a6e2281421d8",
   "metadata": {},
   "outputs": [],
   "source": []
  }
 ],
 "metadata": {
  "kernelspec": {
   "display_name": "Julia 1.9.3",
   "language": "julia",
   "name": "julia-1.9"
  },
  "language_info": {
   "file_extension": ".jl",
   "mimetype": "application/julia",
   "name": "julia",
   "version": "1.9.3"
  }
 },
 "nbformat": 4,
 "nbformat_minor": 5
}
