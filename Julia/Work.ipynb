{
 "cells": [
  {
   "cell_type": "code",
   "execution_count": 4,
   "id": "61d85ee3-a989-427f-bf24-83cd6ad2ddc4",
   "metadata": {
    "editable": true,
    "slideshow": {
     "slide_type": ""
    },
    "tags": []
   },
   "outputs": [
    {
     "name": "stderr",
     "output_type": "stream",
     "text": [
      "\u001b[32m\u001b[1m   Resolving\u001b[22m\u001b[39m package versions...\n",
      "\u001b[32m\u001b[1m   Installed\u001b[22m\u001b[39m CPUTime ─ v1.0.0\n",
      "\u001b[32m\u001b[1m    Updating\u001b[22m\u001b[39m `~/.julia/environments/v1.10/Project.toml`\n",
      "  \u001b[90m[a9c8d775] \u001b[39m\u001b[92m+ CPUTime v1.0.0\u001b[39m\n",
      "\u001b[32m\u001b[1m    Updating\u001b[22m\u001b[39m `~/.julia/environments/v1.10/Manifest.toml`\n",
      "  \u001b[90m[a9c8d775] \u001b[39m\u001b[92m+ CPUTime v1.0.0\u001b[39m\n",
      "\u001b[32m\u001b[1mPrecompiling\u001b[22m\u001b[39m project...\n",
      "\u001b[32m  ✓ \u001b[39mCPUTime\n",
      "  1 dependency successfully precompiled in 0 seconds. 79 already precompiled.\n"
     ]
    },
    {
     "name": "stdout",
     "output_type": "stream",
     "text": [
      "\n",
      "Welcome to Nemo version 0.41.3\n",
      "\n",
      "Nemo comes with absolutely no warranty whatsoever\n"
     ]
    },
    {
     "data": {
      "text/plain": [
       "Main.Groebner"
      ]
     },
     "execution_count": 4,
     "metadata": {},
     "output_type": "execute_result"
    }
   ],
   "source": [
    "using Pkg\n",
    "Pkg.add(\"CPUTime\")\n",
    "#using Pkg\n",
    "#Pkg.update(\"Nemo\")\n",
    "import AbstractAlgebra,Primes,CPUTime,HostCPUFeatures\n",
    "include(\"../../Groebner.jl/src/Groebner.jl\")"
   ]
  },
  {
   "cell_type": "code",
   "execution_count": 11,
   "id": "efb15b1c-dd09-4f4c-9f01-18b0693db194",
   "metadata": {
    "editable": true,
    "slideshow": {
     "slide_type": ""
    },
    "tags": []
   },
   "outputs": [
    {
     "name": "stderr",
     "output_type": "stream",
     "text": [
      "WARNING: redefinition of constant Main._gauss_reduct_jam. This may fail, cause incorrect answers, or produce other errors.\n",
      "WARNING: redefinition of constant Main._rur_rng. This may fail, cause incorrect answers, or produce other errors.\n"
     ]
    },
    {
     "data": {
      "text/plain": [
       "prepare_system (generic function with 1 method)"
      ]
     },
     "execution_count": 11,
     "metadata": {},
     "output_type": "execute_result"
    }
   ],
   "source": [
    "include(\"rur.jl\")"
   ]
  },
  {
   "cell_type": "code",
   "execution_count": 12,
   "id": "abc336c8",
   "metadata": {
    "editable": true,
    "slideshow": {
     "slide_type": ""
    },
    "tags": []
   },
   "outputs": [],
   "source": [
    "QQ=AbstractAlgebra.QQ\n",
    "polynomial_ring=AbstractAlgebra.polynomial_ring\n",
    "include(\"../Data/Systems/caprasse.jl\");\n",
    "#include(\"/tmp/fab_1_1.jl\");\n"
   ]
  },
  {
   "cell_type": "code",
   "execution_count": 13,
   "id": "90dd81c5",
   "metadata": {
    "editable": true,
    "slideshow": {
     "slide_type": ""
    },
    "tags": []
   },
   "outputs": [],
   "source": [
    "sys_z=convert_sys_to_sys_z(sys);\n",
    "#ls=AbstractAlgebra.symbols(R)\n",
    "#C,lls=polynomial_ring(AbstractAlgebra.ZZ,push!(ls,:_Z),ordering=:degrevlex,cached=false);"
   ]
  },
  {
   "cell_type": "code",
   "execution_count": 14,
   "id": "ad45576a-c081-4dd3-a38b-cead9469b18a",
   "metadata": {},
   "outputs": [
    {
     "name": "stdout",
     "output_type": "stream",
     "text": [
      "\n",
      "Separating vector 32(56)\n",
      "variable 4 is NOT separating 12\n",
      "variable 3 is NOT separating 11\n",
      "variable 2 is NOT separating 12\n",
      "Warning : normalization of _Z \n",
      "variable 1 is NOT separating 11elapsed CPU time: 0.511012 seconds\n"
     ]
    },
    {
     "data": {
      "text/plain": [
       "0.511012"
      ]
     },
     "execution_count": 14,
     "metadata": {},
     "output_type": "execute_result"
    }
   ],
   "source": [
    "nn=27\n",
    "CPUTime.CPUtic();\n",
    "dm,Dq,sys_T,_vars=prepare_system(sys_z,nn,R);\n",
    "CPUTime.CPUtoc()\n",
    "#sys_T[length(sys_T)]"
   ]
  },
  {
   "cell_type": "code",
   "execution_count": 15,
   "id": "357da236-4a43-4d22-8867-8eeb79939150",
   "metadata": {},
   "outputs": [
    {
     "name": "stdout",
     "output_type": "stream",
     "text": [
      "[2,2](0)[2,4](0)[2,6](0)[2,8](0)[2,10](0)[2,12](0)[2,14](0)(1)[2,16](1)elapsed CPU time: 0.265182 seconds\n"
     ]
    },
    {
     "data": {
      "text/plain": [
       "0.265182"
      ]
     },
     "execution_count": 15,
     "metadata": {},
     "output_type": "execute_result"
    }
   ],
   "source": [
    "CPUTime.CPUtic();\n",
    "qq=test_param(sys_T,Int32(nn))\n",
    "CPUTime.CPUtoc()"
   ]
  },
  {
   "cell_type": "code",
   "execution_count": 16,
   "id": "5dba33d6-9ba9-4099-8436-abbcb1aa4c72",
   "metadata": {},
   "outputs": [
    {
     "data": {
      "text/plain": [
       "5-element Vector{Vector{Rational{BigInt}}}:\n",
       " [-3947171184813653797869254644757187165723353779604118504479760225, 0, 89755031473052737874802270456955737127947525647043914127915846, 0, -437549700486736373927646547770325128520876241798699717003834, 0, -449087477251575079858906782334390752791720164452916702810//9, 0, 879902356890451559063053354176974213616545439486266722//9, 0  …  0, -14435791550445017186//9, 0, -3108058905444358//9, 0, -25472545334//9, 0, 211406//3, 0, 1]\n",
       " [809570681562974807389719141403768767590074851729770817310776480, 0, -2761874652499406229089428734437576564672232352546175027320416, 0, -55500547483460914003440247863967764092081076922904028269984//3, 0, -86962160370880698392127637070414159018826996973275590560//3, 0, 70863184594277443789542767923813694235270074984836384//9, 0  …  0, -47650166881069867097312//3, 0, 5690351350415941216//9, 0, 48887277719840//3, 0, -243378464//9, 0, -8288//3]\n",
       " [1308989301589408783303623787911863309552796002212968929714160480, 0, -12911311398322388371660903466997563090492886068024755141979364, 0, 36393908340738632978621544756149613332325971934113317236136//3, 0, -11518230751592745528629675108858165684323854243271906924//9, 0, 8390075704573215365324139485853029215957545900602704//9, 0  …  0, 62189836730074752032860//9, 0, -5084964111740721136//9, 0, -8327510919052, 0, 474195304//3, 0, 2972]\n",
       " [-367240189195446155633333477960652911616270597944099375254997280, 0, 24240545689631900472514315447460562667848584137919650090605024, 0, -463832090496373434676745589320198519895844422984560727544288//3, 0, -123653178106011259540265513220457049468316838979766694816//9, 0, 69104041379388994472049148864477129377009907192681504//3, 0  …  0, 336011384129784991258400//9, 0, 1403510424050785120//3, 0, -72169237543648//9, 0, -2011721824//9, 0, -5152//3]\n",
       " [1639061401354553414379147405647338391455498519518365210926490280, 0, -20300216787939448605486938548677958736145386716354097665978212, 0, 138002629502340277918605912316101364485353251856649550295440//3, 0, 156523338806077849984214685881474387857895904622297218884//9, 0, -127205386877117246677763128053787533956131202987461928//9, 0  …  0, -186614984838592950542420//9, 0, -463324394003130328//9, 0, 23940752421500//3, 0, 186838112//3, 0, -308]"
      ]
     },
     "execution_count": 16,
     "metadata": {},
     "output_type": "execute_result"
    }
   ],
   "source": [
    "qq"
   ]
  },
  {
   "cell_type": "code",
   "execution_count": null,
   "id": "bc35b822-49b0-4c97-9fe9-87dcd6e68d9b",
   "metadata": {},
   "outputs": [],
   "source": []
  }
 ],
 "metadata": {
  "kernelspec": {
   "display_name": "Julia 1.10.0",
   "language": "julia",
   "name": "julia-1.10"
  },
  "language_info": {
   "file_extension": ".jl",
   "mimetype": "application/julia",
   "name": "julia",
   "version": "1.10.0"
  }
 },
 "nbformat": 4,
 "nbformat_minor": 5
}
