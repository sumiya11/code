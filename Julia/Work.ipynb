{
 "cells": [
  {
   "cell_type": "code",
   "execution_count": 1,
   "id": "61d85ee3-a989-427f-bf24-83cd6ad2ddc4",
   "metadata": {
    "editable": true,
    "slideshow": {
     "slide_type": ""
    },
    "tags": []
   },
   "outputs": [
    {
     "name": "stdout",
     "output_type": "stream",
     "text": [
      "\n",
      "Welcome to Nemo version 0.38.3\n",
      "\n",
      "Nemo comes with absolutely no warranty whatsoever\n"
     ]
    },
    {
     "data": {
      "text/plain": [
       "Main.Groebner"
      ]
     },
     "execution_count": 1,
     "metadata": {},
     "output_type": "execute_result"
    }
   ],
   "source": [
    "#using Pkg\n",
    "#Pkg.update(\"Nemo\")\n",
    "import AbstractAlgebra,Primes,LoopVectorization,CPUTime,HostCPUFeatures\n",
    "include(\"../../Groebner.jl/src/Groebner.jl\")"
   ]
  },
  {
   "cell_type": "code",
   "execution_count": 2,
   "id": "efb15b1c-dd09-4f4c-9f01-18b0693db194",
   "metadata": {
    "editable": true,
    "slideshow": {
     "slide_type": ""
    },
    "tags": []
   },
   "outputs": [
    {
     "data": {
      "text/plain": [
       "prepare_system (generic function with 1 method)"
      ]
     },
     "execution_count": 2,
     "metadata": {},
     "output_type": "execute_result"
    }
   ],
   "source": [
    "include(\"rur.jl\")"
   ]
  },
  {
   "cell_type": "code",
   "execution_count": 18,
   "id": "abc336c8",
   "metadata": {
    "editable": true,
    "slideshow": {
     "slide_type": ""
    },
    "tags": []
   },
   "outputs": [],
   "source": [
    "QQ=AbstractAlgebra.QQ\n",
    "polynomial_ring=AbstractAlgebra.polynomial_ring\n",
    "include(\"../Data/Systems/fab_4.jl\");"
   ]
  },
  {
   "cell_type": "code",
   "execution_count": 19,
   "id": "90dd81c5",
   "metadata": {
    "editable": true,
    "slideshow": {
     "slide_type": ""
    },
    "tags": []
   },
   "outputs": [],
   "source": [
    "sys_z=convert_sys_to_sys_z(sys);\n",
    "#ls=AbstractAlgebra.symbols(R)\n",
    "#C,lls=polynomial_ring(AbstractAlgebra.ZZ,push!(ls,:_Z),ordering=:degrevlex,cached=false);"
   ]
  },
  {
   "cell_type": "code",
   "execution_count": 20,
   "id": "ae477a85-54c5-4612-84a5-c178984f2162",
   "metadata": {},
   "outputs": [],
   "source": [
    "#CPUTime.CPUtic();\n",
    "#qq_m=test_param(sys_z,27);\n",
    "#CPUTime.CPUtoc()"
   ]
  },
  {
   "cell_type": "code",
   "execution_count": 21,
   "id": "9f73c30e-43d7-47d4-aaf8-1632a61fc435",
   "metadata": {},
   "outputs": [],
   "source": [
    "#length(qq_m[1])\n",
    "\n"
   ]
  },
  {
   "cell_type": "code",
   "execution_count": 22,
   "id": "ad45576a-c081-4dd3-a38b-cead9469b18a",
   "metadata": {},
   "outputs": [
    {
     "name": "stdout",
     "output_type": "stream",
     "text": [
      "\n",
      "Separating vector 1120(1296)\n",
      "variable 4 is NOT separating 1044\n",
      "variable 3 is NOT separating 1044\n",
      "variable 2 is NOT separating 1044\n",
      "Warning : normalization of _Z \n",
      "variable 1 is NOT separating 1044elapsed CPU time: 1.785176 seconds\n"
     ]
    },
    {
     "data": {
      "text/plain": [
       "1.785176"
      ]
     },
     "execution_count": 22,
     "metadata": {},
     "output_type": "execute_result"
    }
   ],
   "source": [
    "CPUTime.CPUtic();\n",
    "dm,Dq,sys_T=prepare_system(sys_z, 28,R);\n",
    "CPUTime.CPUtoc()"
   ]
  },
  {
   "cell_type": "code",
   "execution_count": 17,
   "id": "63685882-e846-4c2d-a056-d9cf9d7984c8",
   "metadata": {},
   "outputs": [
    {
     "name": "stdout",
     "output_type": "stream",
     "text": [
      "[2,2](0)[2,4](0)[2,6](0)[2,8](0)[2,10](0)[2,12](0)[2,14](0)[2,16](0)[2,18](0)[2,20](0)[2,22](0)[2,24](0)[2,26](0)[2,28](0)[2,30](0)[3,33](0)[3,36](0)[3,39](0)[3,42](0)[4,46](0)[4,50](0)[5,55](0)[5,60](0)[6,66](0)[6,72](0)[7,79](0)[7,86](0)[8,94](0)[9,103](0)[10,113](0)[11,124](0)[12,136](0)[13,149](0)[14,163](0)[16,179](0)[17,196](0)[19,215](0)[21,236](0)[23,259](0)[25,284](0)"
     ]
    },
    {
     "ename": "LoadError",
     "evalue": "AssertionError: length(sparse_row_support) == length(sparse_row_coeffs)",
     "output_type": "error",
     "traceback": [
      "AssertionError: length(sparse_row_support) == length(sparse_row_coeffs)",
      "",
      "Stacktrace:",
      "  [1] macro expansion",
      "    @ ~/Travail/Git/Groebner.jl/src/f4/linalg/backend.jl:161 [inlined]",
      "  [2] linalg_interreduce_matrix_pivots!(matrix::Main.Groebner.MacaulayMatrix{UInt32}, basis::Main.Groebner.Basis{UInt32}, arithmetic::Main.Groebner.SpecializedArithmeticZp{UInt64, UInt32, true}; reversed_rows::Bool)",
      "    @ Main.Groebner ~/Travail/Git/Groebner.jl/src/utils/timeit.jl:95",
      "  [3] linalg_interreduce_matrix_pivots!",
      "    @ ~/Travail/Git/Groebner.jl/src/utils/timeit.jl:92 [inlined]",
      "  [4] #linalg_apply_interreduce_matrix_pivots!#466",
      "    @ ~/Travail/Git/Groebner.jl/src/f4/linalg/backend_learn_apply.jl:213 [inlined]",
      "  [5] linalg_apply_interreduce_matrix_pivots!",
      "    @ ~/Travail/Git/Groebner.jl/src/f4/linalg/backend_learn_apply.jl:206 [inlined]",
      "  [6] linalg_apply_sparse!",
      "    @ ~/Travail/Git/Groebner.jl/src/f4/linalg/backend_learn_apply.jl:46 [inlined]",
      "  [7] _linalg_main_with_trace!(trace::Main.Groebner.TraceF4{UInt32, UInt64, Main.Groebner.PackedTuple1{UInt64, UInt8}, Main.Groebner._DegRevLex{true}, Main.Groebner.DegRevLex{Nothing}}, matrix::Main.Groebner.MacaulayMatrix{UInt32}, basis::Main.Groebner.Basis{UInt32}, linalg::Main.Groebner.LinearAlgebra, threaded::Symbol, arithmetic::Main.Groebner.SpecializedArithmeticZp{UInt64, UInt32, true}, rng::Random.Xoshiro)",
      "    @ Main.Groebner ~/Travail/Git/Groebner.jl/src/f4/linalg/linalg.jl:229",
      "  [8] macro expansion",
      "    @ ~/Travail/Git/Groebner.jl/src/f4/linalg/linalg.jl:68 [inlined]",
      "  [9] #linalg_main!#385",
      "    @ ~/Travail/Git/Groebner.jl/src/utils/timeit.jl:95 [inlined]",
      " [10] linalg_main!",
      "    @ ~/Travail/Git/Groebner.jl/src/utils/timeit.jl:92 [inlined]",
      " [11] reduction_apply!(trace::Main.Groebner.TraceF4{UInt32, UInt64, Main.Groebner.PackedTuple1{UInt64, UInt8}, Main.Groebner._DegRevLex{true}, Main.Groebner.DegRevLex{Nothing}}, basis::Main.Groebner.Basis{UInt32}, matrix::Main.Groebner.MacaulayMatrix{UInt32}, ht::Main.Groebner.MonomialHashtable{Main.Groebner.PackedTuple1{UInt64, UInt8}, Main.Groebner._DegRevLex{true}}, symbol_ht::Main.Groebner.MonomialHashtable{Main.Groebner.PackedTuple1{UInt64, UInt8}, Main.Groebner._DegRevLex{true}}, f4_iteration::Int64, params::Main.Groebner.AlgorithmParameters{Main.Groebner.DegRevLex{Nothing}, Main.Groebner.DegRevLex{Nothing}, Main.Groebner.DegRevLex{Nothing}, Main.Groebner.SpecializedArithmeticZp{UInt64, UInt32, true}})",
      "    @ Main.Groebner ~/Travail/Git/Groebner.jl/src/f4/learn-apply.jl:342",
      " [12] macro expansion",
      "    @ ~/Travail/Git/Groebner.jl/src/f4/learn-apply.jl:572 [inlined]",
      " [13] f4_apply!(trace::Main.Groebner.TraceF4{UInt32, UInt64, Main.Groebner.PackedTuple1{UInt64, UInt8}, Main.Groebner._DegRevLex{true}, Main.Groebner.DegRevLex{Nothing}}, ring::Main.Groebner.PolyRing{Main.Groebner._DegRevLex{true}, UInt64}, basis::Main.Groebner.Basis{UInt32}, params::Main.Groebner.AlgorithmParameters{Main.Groebner.DegRevLex{Nothing}, Main.Groebner.DegRevLex{Nothing}, Main.Groebner.DegRevLex{Nothing}, Main.Groebner.SpecializedArithmeticZp{UInt64, UInt32, true}})",
      "    @ Main.Groebner ~/Travail/Git/Groebner.jl/src/utils/timeit.jl:95",
      " [14] _groebner_apply1!(ring::Main.Groebner.PolyRing{Main.Groebner._DegRevLex{true}, UInt64}, trace::Main.Groebner.TraceF4{UInt32, UInt64, Main.Groebner.PackedTuple1{UInt64, UInt8}, Main.Groebner._DegRevLex{true}, Main.Groebner.DegRevLex{Nothing}}, params::Main.Groebner.AlgorithmParameters{Main.Groebner.DegRevLex{Nothing}, Main.Groebner.DegRevLex{Nothing}, Main.Groebner.DegRevLex{Nothing}, Main.Groebner.SpecializedArithmeticZp{UInt64, UInt32, true}})",
      "    @ Main.Groebner ~/Travail/Git/Groebner.jl/src/groebner/learn-apply.jl:156",
      " [15] groebner_applyX!(wrapped_trace::Main.Groebner.WrappedTraceF4, coeffs_zp::Vector{Vector{UInt32}}, modulo::UInt32; options::Base.Pairs{Symbol, Union{}, Tuple{}, NamedTuple{(), Tuple{}}})",
      "    @ Main.Groebner ~/Travail/Git/Groebner.jl/src/groebner/learn-apply.jl:203",
      " [16] groebner_applyX!",
      "    @ ~/Travail/Git/Groebner.jl/src/groebner/learn-apply.jl:178 [inlined]",
      " [17] apply_zdim_quo!(graph::Main.Groebner.WrappedTraceF4, t_learn::Vector{Int32}, q::Vector{PP}, i_xw::Vector{Vector{Int32}}, t_xw::Vector{StackVect}, pr::UInt32, arithm::Main.Groebner.ArithmeticZp{UInt64, UInt32}, gb_expvecs::Vector{Vector{PP}}, cfs_zp::Vector{Vector{UInt32}})",
      "    @ Main ~/Travail/Git/code/Julia/rur.jl:451",
      " [18] test_param(sys_z::Vector{AbstractAlgebra.Generic.MPoly{BigInt}}, nn::Int64)",
      "    @ Main ~/Travail/Git/code/Julia/rur.jl:943",
      " [19] top-level scope",
      "    @ In[17]:3"
     ]
    }
   ],
   "source": [
    "CPUTime.CPUtic();\n",
    "if (dm==Dq) \n",
    "    qq=test_param(sys_T,28);\n",
    "else \n",
    "    print(\"\\nQuotient is not cyclic\\n\")\n",
    "end\n",
    "CPUTime.CPUtoc()"
   ]
  },
  {
   "cell_type": "code",
   "execution_count": null,
   "id": "11eb9050-dc4c-4c0a-9f7e-8bd121da9d24",
   "metadata": {},
   "outputs": [],
   "source": []
  }
 ],
 "metadata": {
  "kernelspec": {
   "display_name": "Julia 1.9.3",
   "language": "julia",
   "name": "julia-1.9"
  },
  "language_info": {
   "file_extension": ".jl",
   "mimetype": "application/julia",
   "name": "julia",
   "version": "1.9.3"
  }
 },
 "nbformat": 4,
 "nbformat_minor": 5
}
