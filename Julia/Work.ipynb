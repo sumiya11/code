{
 "cells": [
  {
   "cell_type": "code",
   "execution_count": 1,
   "id": "61d85ee3-a989-427f-bf24-83cd6ad2ddc4",
   "metadata": {
    "editable": true,
    "slideshow": {
     "slide_type": ""
    },
    "tags": []
   },
   "outputs": [
    {
     "name": "stdout",
     "output_type": "stream",
     "text": [
      "\n",
      "Welcome to Nemo version 0.38.3\n",
      "\n",
      "Nemo comes with absolutely no warranty whatsoever\n"
     ]
    },
    {
     "data": {
      "text/plain": [
       "Main.Groebner"
      ]
     },
     "execution_count": 1,
     "metadata": {},
     "output_type": "execute_result"
    }
   ],
   "source": [
    "#using Pkg\n",
    "#Pkg.update(\"Nemo\")\n",
    "import AbstractAlgebra,Primes,LoopVectorization,CPUTime,HostCPUFeatures\n",
    "include(\"../../Groebner.jl/src/Groebner.jl\")"
   ]
  },
  {
   "cell_type": "code",
   "execution_count": 13,
   "id": "efb15b1c-dd09-4f4c-9f01-18b0693db194",
   "metadata": {
    "editable": true,
    "slideshow": {
     "slide_type": ""
    },
    "tags": []
   },
   "outputs": [
    {
     "name": "stderr",
     "output_type": "stream",
     "text": [
      "WARNING: redefinition of constant _gauss_reduct_jam. This may fail, cause incorrect answers, or produce other errors.\n"
     ]
    },
    {
     "data": {
      "text/plain": [
       "prepare_system (generic function with 1 method)"
      ]
     },
     "execution_count": 13,
     "metadata": {},
     "output_type": "execute_result"
    }
   ],
   "source": [
    "include(\"rur.jl\")"
   ]
  },
  {
   "cell_type": "code",
   "execution_count": 23,
   "id": "abc336c8",
   "metadata": {
    "editable": true,
    "slideshow": {
     "slide_type": ""
    },
    "tags": []
   },
   "outputs": [],
   "source": [
    "QQ=AbstractAlgebra.QQ\n",
    "polynomial_ring=AbstractAlgebra.polynomial_ring\n",
    "include(\"../Data/Systems/fab_4.jl\");\n",
    "#include(\"/tmp/eco7.jl\");"
   ]
  },
  {
   "cell_type": "code",
   "execution_count": 24,
   "id": "90dd81c5",
   "metadata": {
    "editable": true,
    "slideshow": {
     "slide_type": ""
    },
    "tags": []
   },
   "outputs": [],
   "source": [
    "sys_z=convert_sys_to_sys_z(sys);\n",
    "#ls=AbstractAlgebra.symbols(R)\n",
    "#C,lls=polynomial_ring(AbstractAlgebra.ZZ,push!(ls,:_Z),ordering=:degrevlex,cached=false);"
   ]
  },
  {
   "cell_type": "code",
   "execution_count": 25,
   "id": "ad45576a-c081-4dd3-a38b-cead9469b18a",
   "metadata": {},
   "outputs": [
    {
     "name": "stdout",
     "output_type": "stream",
     "text": [
      "\n",
      "Separating vector 1120(1296)\n",
      "variable 4 is NOT separating 1044\n",
      "variable 3 is NOT separating 1044\n",
      "variable 2 is NOT separating 1044\n",
      "Warning : normalization of _Z \n",
      "variable 1 is NOT separating 1044elapsed CPU time: 1.433027 seconds\n"
     ]
    },
    {
     "data": {
      "text/plain": [
       "1.433027"
      ]
     },
     "execution_count": 25,
     "metadata": {},
     "output_type": "execute_result"
    }
   ],
   "source": [
    "nn=28\n",
    "CPUTime.CPUtic();\n",
    "dm,Dq,sys_T,_vars=prepare_system(sys_z,nn,R);\n",
    "CPUTime.CPUtoc()"
   ]
  },
  {
   "cell_type": "code",
   "execution_count": null,
   "id": "357da236-4a43-4d22-8867-8eeb79939150",
   "metadata": {},
   "outputs": [
    {
     "name": "stdout",
     "output_type": "stream",
     "text": [
      "[2,2](0)[2,4](0)[2,6](0)[2,8](0)[2,10](0)[2,12](0)[2,14](0)[2,16](0)[2,18](0)[2,20](0)[2,22](0)[2,24](0)[2,26](0)[2,28](0)[2,30](0)[3,33](0)[3,36](0)[3,39](0)[3,42](0)[4,46](0)[4,50](0)[5,55](0)[5,60](0)[6,66](0)[6,72](0)[7,79](0)[7,86](0)[8,94](0)[9,103](0)[10,113](0)[11,124](0)[12,136](0)[13,149](0)"
     ]
    }
   ],
   "source": [
    "CPUTime.CPUtic();\n",
    "qq=test_param(sys_T,Int32(nn))\n",
    "CPUTime.CPUtoc()"
   ]
  },
  {
   "cell_type": "code",
   "execution_count": null,
   "id": "64e7c4e2-90e7-4e16-8cd1-4efe4b14a675",
   "metadata": {},
   "outputs": [],
   "source": []
  }
 ],
 "metadata": {
  "kernelspec": {
   "display_name": "Julia 1.9.3",
   "language": "julia",
   "name": "julia-1.9"
  },
  "language_info": {
   "file_extension": ".jl",
   "mimetype": "application/julia",
   "name": "julia",
   "version": "1.9.3"
  }
 },
 "nbformat": 4,
 "nbformat_minor": 5
}
