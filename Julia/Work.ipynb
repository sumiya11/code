{
 "cells": [
  {
   "cell_type": "code",
   "execution_count": 5,
   "id": "61d85ee3-a989-427f-bf24-83cd6ad2ddc4",
   "metadata": {
    "editable": true,
    "slideshow": {
     "slide_type": ""
    },
    "tags": []
   },
   "outputs": [
    {
     "name": "stdout",
     "output_type": "stream",
     "text": [
      "\n",
      "Welcome to Nemo version 0.38.3\n",
      "\n",
      "Nemo comes with absolutely no warranty whatsoever\n"
     ]
    },
    {
     "data": {
      "text/plain": [
       "Main.Groebner"
      ]
     },
     "execution_count": 5,
     "metadata": {},
     "output_type": "execute_result"
    }
   ],
   "source": [
    "#using Pkg\n",
    "#Pkg.update(\"Nemo\")\n",
    "import AbstractAlgebra,Primes,LoopVectorization,CPUTime,HostCPUFeatures\n",
    "include(\"../../Groebner.jl/src/Groebner.jl\")"
   ]
  },
  {
   "cell_type": "code",
   "execution_count": 6,
   "id": "efb15b1c-dd09-4f4c-9f01-18b0693db194",
   "metadata": {
    "editable": true,
    "slideshow": {
     "slide_type": ""
    },
    "tags": []
   },
   "outputs": [
    {
     "data": {
      "text/plain": [
       "prepare_system (generic function with 1 method)"
      ]
     },
     "execution_count": 6,
     "metadata": {},
     "output_type": "execute_result"
    }
   ],
   "source": [
    "include(\"rur.jl\")"
   ]
  },
  {
   "cell_type": "code",
   "execution_count": 13,
   "id": "abc336c8",
   "metadata": {
    "editable": true,
    "slideshow": {
     "slide_type": ""
    },
    "tags": []
   },
   "outputs": [],
   "source": [
    "QQ=AbstractAlgebra.QQ\n",
    "polynomial_ring=AbstractAlgebra.polynomial_ring\n",
    "include(\"../Data/Systems/reimer7.jl\");"
   ]
  },
  {
   "cell_type": "code",
   "execution_count": 14,
   "id": "90dd81c5",
   "metadata": {
    "editable": true,
    "slideshow": {
     "slide_type": ""
    },
    "tags": []
   },
   "outputs": [],
   "source": [
    "sys_z=convert_sys_to_sys_z(sys);\n",
    "#ls=AbstractAlgebra.symbols(R)\n",
    "#C,lls=polynomial_ring(AbstractAlgebra.ZZ,push!(ls,:_Z),ordering=:degrevlex,cached=false);"
   ]
  },
  {
   "cell_type": "code",
   "execution_count": 15,
   "id": "ae477a85-54c5-4612-84a5-c178984f2162",
   "metadata": {},
   "outputs": [],
   "source": [
    "#CPUTime.CPUtic();\n",
    "#qq_m=test_param(sys_z,27);\n",
    "#CPUTime.CPUtoc()"
   ]
  },
  {
   "cell_type": "code",
   "execution_count": 16,
   "id": "9f73c30e-43d7-47d4-aaf8-1632a61fc435",
   "metadata": {},
   "outputs": [],
   "source": [
    "#length(qq_m[1])\n",
    "\n"
   ]
  },
  {
   "cell_type": "code",
   "execution_count": 17,
   "id": "ad45576a-c081-4dd3-a38b-cead9469b18a",
   "metadata": {},
   "outputs": [
    {
     "name": "stdout",
     "output_type": "stream",
     "text": [
      "\n",
      "Separating vector 2880(2880)\n",
      "variable 7 is NOT separating 80\n",
      "variable 6 is NOT separating 60\n",
      "variable 5 is NOT separating 80\n",
      "variable 4 is NOT separating 60\n",
      "variable 3 is NOT separating 80\n",
      "variable 2 is NOT separating 60\n",
      " **** WARNING POSSIBLE NORMALIZATION PROBLEM ****\n",
      "\n",
      "variable 1 is NOT separating 80elapsed CPU time: 8.319572 seconds\n"
     ]
    },
    {
     "data": {
      "text/plain": [
       "8.319572"
      ]
     },
     "execution_count": 17,
     "metadata": {},
     "output_type": "execute_result"
    }
   ],
   "source": [
    "CPUTime.CPUtic();\n",
    "dm,Dq,sys_T=prepare_system(sys_z, 28,R);\n",
    "CPUTime.CPUtoc()"
   ]
  },
  {
   "cell_type": "code",
   "execution_count": null,
   "id": "63685882-e846-4c2d-a056-d9cf9d7984c8",
   "metadata": {},
   "outputs": [
    {
     "name": "stdout",
     "output_type": "stream",
     "text": [
      "[2,2](0)[2,4](0)[2,6](0)[2,8](0)[2,10](0)[2,12](0)[2,14](0)[2,16](0)[2,18](0)[2,20](0)[2,22](0)[2,24](0)[2,26](0)[2,28](0)[2,30](0)[3,33](0)[3,36](0)[3,39](0)[3,42](0)[4,46](0)[4,50](0)[5,55](0)[5,60](0)[6,66](0)[6,72](0)[7,79](0)[7,86](0)[8,94](0)[9,103](0)[10,113](0)[11,124](0)[12,136](0)[13,149](0)[14,163](0)[16,179](0)[17,196](0)[19,215](0)[21,236](0)[23,259](0)[25,284](0)[28,312](0)[31,343](0)[34,377](0)\n",
      "*** Bad prime detected in apply_zdim ***\n",
      "\n",
      "*** bad prime for Gbasis detected ***\n",
      "[37,413](0)[41,454](0)[45,499](0)\n",
      "*** Bad prime detected in apply_zdim ***\n",
      "\n",
      "*** bad prime for Gbasis detected ***\n",
      "[49,547](0)\n",
      "*** Bad prime detected in apply_zdim ***\n",
      "\n",
      "*** bad prime for Gbasis detected ***\n",
      "\n",
      "*** Bad prime detected in apply_zdim ***\n",
      "\n",
      "*** bad prime for Gbasis detected ***\n",
      "[54,599](0)[59,658](0)[65,723](0)\n",
      "*** Bad prime detected in apply_zdim ***\n",
      "\n",
      "*** bad prime for Gbasis detected ***\n"
     ]
    }
   ],
   "source": [
    "CPUTime.CPUtic();\n",
    "if (dm==Dq) \n",
    "    qq=test_param(sys_T,28);\n",
    "else \n",
    "    print(\"\\nQuotient is not cyclic\\n\")\n",
    "end\n",
    "CPUTime.CPUtoc()"
   ]
  },
  {
   "cell_type": "code",
   "execution_count": null,
   "id": "11eb9050-dc4c-4c0a-9f7e-8bd121da9d24",
   "metadata": {},
   "outputs": [],
   "source": []
  }
 ],
 "metadata": {
  "kernelspec": {
   "display_name": "Julia 1.9.3",
   "language": "julia",
   "name": "julia-1.9"
  },
  "language_info": {
   "file_extension": ".jl",
   "mimetype": "application/julia",
   "name": "julia",
   "version": "1.9.3"
  }
 },
 "nbformat": 4,
 "nbformat_minor": 5
}
