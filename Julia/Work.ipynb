{
 "cells": [
  {
   "cell_type": "code",
   "execution_count": 1,
   "id": "61d85ee3-a989-427f-bf24-83cd6ad2ddc4",
   "metadata": {
    "editable": true,
    "slideshow": {
     "slide_type": ""
    },
    "tags": []
   },
   "outputs": [
    {
     "name": "stdout",
     "output_type": "stream",
     "text": [
      "\n",
      "Welcome to Nemo version 0.38.3\n",
      "\n",
      "Nemo comes with absolutely no warranty whatsoever\n"
     ]
    },
    {
     "data": {
      "text/plain": [
       "Main.Groebner"
      ]
     },
     "execution_count": 1,
     "metadata": {},
     "output_type": "execute_result"
    }
   ],
   "source": [
    "#using Pkg\n",
    "#Pkg.update(\"Nemo\")\n",
    "import AbstractAlgebra,Primes,LoopVectorization,CPUTime,HostCPUFeatures\n",
    "include(\"../../Groebner.jl/src/Groebner.jl\")"
   ]
  },
  {
   "cell_type": "code",
   "execution_count": 2,
   "id": "efb15b1c-dd09-4f4c-9f01-18b0693db194",
   "metadata": {
    "editable": true,
    "slideshow": {
     "slide_type": ""
    },
    "tags": []
   },
   "outputs": [
    {
     "data": {
      "text/plain": [
       "prepare_system (generic function with 1 method)"
      ]
     },
     "execution_count": 2,
     "metadata": {},
     "output_type": "execute_result"
    }
   ],
   "source": [
    "include(\"rur.jl\")"
   ]
  },
  {
   "cell_type": "code",
   "execution_count": 33,
   "id": "abc336c8",
   "metadata": {
    "editable": true,
    "slideshow": {
     "slide_type": ""
    },
    "tags": []
   },
   "outputs": [],
   "source": [
    "QQ=AbstractAlgebra.QQ\n",
    "polynomial_ring=AbstractAlgebra.polynomial_ring\n",
    "include(\"../Data/Systems/reimer7.jl\");"
   ]
  },
  {
   "cell_type": "code",
   "execution_count": 34,
   "id": "90dd81c5",
   "metadata": {
    "editable": true,
    "slideshow": {
     "slide_type": ""
    },
    "tags": []
   },
   "outputs": [],
   "source": [
    "sys_z=convert_sys_to_sys_z(sys);\n",
    "#ls=AbstractAlgebra.symbols(R)\n",
    "#C,lls=polynomial_ring(AbstractAlgebra.ZZ,push!(ls,:_Z),ordering=:degrevlex,cached=false);"
   ]
  },
  {
   "cell_type": "code",
   "execution_count": 35,
   "id": "ae477a85-54c5-4612-84a5-c178984f2162",
   "metadata": {},
   "outputs": [],
   "source": [
    "#CPUTime.CPUtic();\n",
    "#qq_m=test_param(sys_z,27);\n",
    "#CPUTime.CPUtoc()"
   ]
  },
  {
   "cell_type": "code",
   "execution_count": 36,
   "id": "9f73c30e-43d7-47d4-aaf8-1632a61fc435",
   "metadata": {},
   "outputs": [],
   "source": [
    "#length(qq_m[1])\n",
    "\n"
   ]
  },
  {
   "cell_type": "code",
   "execution_count": 37,
   "id": "ad45576a-c081-4dd3-a38b-cead9469b18a",
   "metadata": {},
   "outputs": [
    {
     "name": "stdout",
     "output_type": "stream",
     "text": [
      "\n",
      "Separating vector 2880(2880)\n",
      "variable 7 is NOT separating 80\n",
      "variable 6 is NOT separating 60\n",
      "variable 5 is NOT separating 80\n",
      "variable 4 is NOT separating 60\n",
      "variable 3 is NOT separating 80\n",
      "variable 2 is NOT separating 60\n",
      " **** WARNING POSSIBLE NORMALIZATION PROBLEM ****\n",
      "\n",
      "variable 1 is NOT separating 80elapsed CPU time: 7.55926 seconds\n"
     ]
    },
    {
     "data": {
      "text/plain": [
       "7.55926"
      ]
     },
     "execution_count": 37,
     "metadata": {},
     "output_type": "execute_result"
    }
   ],
   "source": [
    "CPUTime.CPUtic();\n",
    "dm,Dq,sys_T=prepare_system(sys_z, 28,R);\n",
    "CPUTime.CPUtoc()"
   ]
  },
  {
   "cell_type": "code",
   "execution_count": null,
   "id": "63685882-e846-4c2d-a056-d9cf9d7984c8",
   "metadata": {},
   "outputs": [
    {
     "name": "stdout",
     "output_type": "stream",
     "text": [
      "[2,2](0)[2,4](0)[2,6](0)[2,8](0)[2,10](0)[2,12](0)[2,14](0)[2,16](0)[2,18](0)[2,20](0)[2,22](0)[2,24](0)[2,26](0)[2,28](0)"
     ]
    }
   ],
   "source": [
    "CPUTime.CPUtic();\n",
    "if (dm==Dq) \n",
    "    qq=test_param(sys_T,28);\n",
    "else \n",
    "    print(\"\\nQuotient is not cyclic\\n\")\n",
    "end\n",
    "CPUTime.CPUtoc()"
   ]
  },
  {
   "cell_type": "code",
   "execution_count": 18,
   "id": "6b79b746-4c23-491e-842c-2f272762c834",
   "metadata": {},
   "outputs": [
    {
     "data": {
      "text/plain": [
       "7-element Vector{AbstractAlgebra.Generic.MPoly{Rational{BigInt}}}:\n",
       " 2*x1^2 - 2*x2^2 + 2*x3^2 - 2*x4^2 + 2*x5^2 - 2*x6^2 + 2*x7^2 - 1\n",
       " 2*x1^3 - 2*x2^3 + 2*x3^3 - 2*x4^3 + 2*x5^3 - 2*x6^3 + 2*x7^3 - 1\n",
       " 2*x1^4 - 2*x2^4 + 2*x3^4 - 2*x4^4 + 2*x5^4 - 2*x6^4 + 2*x7^4 - 1\n",
       " 2*x1^5 - 2*x2^5 + 2*x3^5 - 2*x4^5 + 2*x5^5 - 2*x6^5 + 2*x7^5 - 1\n",
       " 2*x1^6 - 2*x2^6 + 2*x3^6 - 2*x4^6 + 2*x5^6 - 2*x6^6 + 2*x7^6 - 1\n",
       " 2*x1^7 - 2*x2^7 + 2*x3^7 - 2*x4^7 + 2*x5^7 - 2*x6^7 + 2*x7^7 - 1\n",
       " 2*x1^8 - 2*x2^8 + 2*x3^8 - 2*x4^8 + 2*x5^8 - 2*x6^8 + 2*x7^8 - 1"
      ]
     },
     "execution_count": 18,
     "metadata": {},
     "output_type": "execute_result"
    }
   ],
   "source": [
    "Groebner.reimern(7)"
   ]
  },
  {
   "cell_type": "code",
   "execution_count": null,
   "id": "55afe534-668f-47ea-a033-c64c2640f668",
   "metadata": {},
   "outputs": [],
   "source": []
  }
 ],
 "metadata": {
  "kernelspec": {
   "display_name": "Julia 1.9.3",
   "language": "julia",
   "name": "julia-1.9"
  },
  "language_info": {
   "file_extension": ".jl",
   "mimetype": "application/julia",
   "name": "julia",
   "version": "1.9.3"
  }
 },
 "nbformat": 4,
 "nbformat_minor": 5
}
