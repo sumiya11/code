{
 "cells": [
  {
   "cell_type": "code",
   "execution_count": 1,
   "id": "61d85ee3-a989-427f-bf24-83cd6ad2ddc4",
   "metadata": {
    "editable": true,
    "slideshow": {
     "slide_type": ""
    },
    "tags": []
   },
   "outputs": [
    {
     "name": "stdout",
     "output_type": "stream",
     "text": [
      "\n",
      "Welcome to Nemo version 0.38.3\n",
      "\n",
      "Nemo comes with absolutely no warranty whatsoever\n"
     ]
    },
    {
     "data": {
      "text/plain": [
       "Main.Groebner"
      ]
     },
     "execution_count": 1,
     "metadata": {},
     "output_type": "execute_result"
    }
   ],
   "source": [
    "#using Pkg\n",
    "#Pkg.update(\"Nemo\")\n",
    "import AbstractAlgebra,Primes,LoopVectorization,CPUTime,HostCPUFeatures\n",
    "include(\"../../Groebner.jl/src/Groebner.jl\")"
   ]
  },
  {
   "cell_type": "code",
   "execution_count": 2,
   "id": "efb15b1c-dd09-4f4c-9f01-18b0693db194",
   "metadata": {
    "editable": true,
    "slideshow": {
     "slide_type": ""
    },
    "tags": []
   },
   "outputs": [
    {
     "data": {
      "text/plain": [
       "prepare_system (generic function with 1 method)"
      ]
     },
     "execution_count": 2,
     "metadata": {},
     "output_type": "execute_result"
    }
   ],
   "source": [
    "include(\"rur_develop.jl\")"
   ]
  },
  {
   "cell_type": "code",
   "execution_count": 12,
   "id": "abc336c8",
   "metadata": {
    "editable": true,
    "slideshow": {
     "slide_type": ""
    },
    "tags": []
   },
   "outputs": [],
   "source": [
    "QQ=AbstractAlgebra.QQ\n",
    "polynomial_ring=AbstractAlgebra.polynomial_ring\n",
    "include(\"../Data/Systems/phuoc1.jl\");\n",
    "#include(\"/tmp/fab_1_1.jl\");\n"
   ]
  },
  {
   "cell_type": "code",
   "execution_count": 13,
   "id": "90dd81c5",
   "metadata": {
    "editable": true,
    "slideshow": {
     "slide_type": ""
    },
    "tags": []
   },
   "outputs": [],
   "source": [
    "sys_z=convert_sys_to_sys_z(sys);\n",
    "#ls=AbstractAlgebra.symbols(R)\n",
    "#C,lls=polynomial_ring(AbstractAlgebra.ZZ,push!(ls,:_Z),ordering=:degrevlex,cached=false);"
   ]
  },
  {
   "cell_type": "code",
   "execution_count": 14,
   "id": "ad45576a-c081-4dd3-a38b-cead9469b18a",
   "metadata": {},
   "outputs": [
    {
     "name": "stdout",
     "output_type": "stream",
     "text": [
      "\n",
      "Separating vector 4022(4022)\n",
      "variable 3 is separating 4022elapsed CPU time: 18.400578 seconds\n"
     ]
    },
    {
     "data": {
      "text/plain": [
       "18.400578"
      ]
     },
     "execution_count": 14,
     "metadata": {},
     "output_type": "execute_result"
    }
   ],
   "source": [
    "nn=27\n",
    "CPUTime.CPUtic();\n",
    "dm,Dq,sys_T,_vars=prepare_system(sys_z,nn,R);\n",
    "CPUTime.CPUtoc()\n",
    "#sys_T[length(sys_T)]"
   ]
  },
  {
   "cell_type": "code",
   "execution_count": null,
   "id": "357da236-4a43-4d22-8867-8eeb79939150",
   "metadata": {},
   "outputs": [
    {
     "name": "stdout",
     "output_type": "stream",
     "text": [
      "[2,2](0)[2,4](0)[2,6](0)[2,8](0)[2,10](0)[2,12](0)[2,14](0)[2,16](0)[2,18](0)[2,20](0)[2,22](0)[2,24](0)[2,26](0)[2,28](0)[2,30](0)[3,33](0)[3,36](0)[3,39](0)[3,42](0)[4,46](0)[4,50](0)[5,55](0)[5,60](0)[6,66](0)[6,72](0)[7,79](0)[7,86](0)[8,94](0)[9,103](0)[10,113](0)[11,124](0)[12,136](0)"
     ]
    }
   ],
   "source": [
    "CPUTime.CPUtic();\n",
    "qq=test_param(sys_T,Int32(nn))\n",
    "CPUTime.CPUtoc()"
   ]
  },
  {
   "cell_type": "code",
   "execution_count": 7,
   "id": "5dba33d6-9ba9-4099-8436-abbcb1aa4c72",
   "metadata": {},
   "outputs": [
    {
     "data": {
      "text/plain": [
       "5-element Vector{Vector{Rational{BigInt}}}:\n",
       " [-14378196763151500170013560250990258378464350001//1, 0//1, 1640593627154204227465797322184204978319977542//1, 0//1, 3332086106809901821395843462042468550877890//3, 0//1, -2014383235111594206070951832117259801849406//3, 0//1, 1928583691195551265174736692214506619394//1, 0//1  …  0//1, 12519107946108606//1, 0//1, -2773869016598//1, 0//1, 1422653630//3, 0//1, -116306//3, 0//1, 1//1]\n",
       " [-21154411525841882792432324744675794202168946240//1, 0//1, 766211839318557839765478300512557046007090880//3, 0//1, 33556154270417550102365970288348437440377920//3, 0//1, -321592885995095050916224614669028749144640//3, 0//1, -1050550414957893995413351142885801119040//1, 0//1  …  0//1, -200282438007103040//1, 0//1, -438393369347520//1, 0//1, 647302072640//3, 0//1, -61766720//3, 0//1, 1600//3]\n",
       " [-17721766882533418574587342679632349628691181256//1, 0//1, 2846655690102311650380725946400439057842830332//3, 0//1, 6540327633812139708395495855585160947742512//3, 0//1, -39572950577607299174040510280992153274108//3, 0//1, -445596481438878390800218767717294681592//1, 0//1  …  0//1, 9337264939051624612//1, 0//1, -2402149127173896//1, 0//1, 1341625083508//3, 0//1, -140972768//3, 0//1, 5356//3]\n",
       " [25508958226983579844401381046095422235327094560//1, 0//1, -2443311821962942697670056599944772255795868320//3, 0//1, -13543786783233641639712173267714217380853280//3, 0//1, 326146923594341198041580167119020585749920//1, 0//1, -2538436104518026106307014308941837107040//1, 0//1  …  0//1, 13970312541977758880//3, 0//1, -398869053164320//1, 0//1, 39752750240//3, 0//1, -18045920//3, 0//1, 800//3]\n",
       " [8161449829938661160808771055042443893818034976//1, 0//1, -5936101649010922022845579478529262033653542660//3, 0//1, 11652347436509632609346250661122418397672120//3, 0//1, 435467687688361616299903755229905976091036//1, 0//1, -1089226837969356767524178005948079979824//3, 0//1  …  0//1, 20713465099004315420//3, 0//1, -5612308769044592//3, 0//1, 1073106300052//3, 0//1, -119190280//3, 0//1, 4796//3]"
      ]
     },
     "execution_count": 7,
     "metadata": {},
     "output_type": "execute_result"
    }
   ],
   "source": [
    "qq"
   ]
  },
  {
   "cell_type": "code",
   "execution_count": null,
   "id": "bc35b822-49b0-4c97-9fe9-87dcd6e68d9b",
   "metadata": {},
   "outputs": [],
   "source": []
  }
 ],
 "metadata": {
  "kernelspec": {
   "display_name": "Julia 1.9.3",
   "language": "julia",
   "name": "julia-1.9"
  },
  "language_info": {
   "file_extension": ".jl",
   "mimetype": "application/julia",
   "name": "julia",
   "version": "1.9.3"
  }
 },
 "nbformat": 4,
 "nbformat_minor": 5
}
