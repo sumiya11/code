{
 "cells": [
  {
   "cell_type": "code",
   "execution_count": 1,
   "id": "61d85ee3-a989-427f-bf24-83cd6ad2ddc4",
   "metadata": {
    "editable": true,
    "slideshow": {
     "slide_type": ""
    },
    "tags": []
   },
   "outputs": [
    {
     "name": "stdout",
     "output_type": "stream",
     "text": [
      "\n",
      "Welcome to Nemo version 0.38.3\n",
      "\n",
      "Nemo comes with absolutely no warranty whatsoever\n"
     ]
    },
    {
     "data": {
      "text/plain": [
       "Main.Groebner"
      ]
     },
     "execution_count": 1,
     "metadata": {},
     "output_type": "execute_result"
    }
   ],
   "source": [
    "#using Pkg\n",
    "#Pkg.update(\"Nemo\")\n",
    "import AbstractAlgebra,Primes,LoopVectorization,CPUTime,HostCPUFeatures\n",
    "include(\"../../Groebner.jl/src/Groebner.jl\")"
   ]
  },
  {
   "cell_type": "code",
   "execution_count": 12,
   "id": "efb15b1c-dd09-4f4c-9f01-18b0693db194",
   "metadata": {
    "editable": true,
    "slideshow": {
     "slide_type": ""
    },
    "tags": []
   },
   "outputs": [
    {
     "name": "stderr",
     "output_type": "stream",
     "text": [
      "WARNING: redefinition of constant _gauss_reduct_jam. This may fail, cause incorrect answers, or produce other errors.\n"
     ]
    },
    {
     "data": {
      "text/plain": [
       "prepare_system (generic function with 1 method)"
      ]
     },
     "execution_count": 12,
     "metadata": {},
     "output_type": "execute_result"
    }
   ],
   "source": [
    "include(\"rur.jl\")"
   ]
  },
  {
   "cell_type": "code",
   "execution_count": 13,
   "id": "abc336c8",
   "metadata": {
    "editable": true,
    "slideshow": {
     "slide_type": ""
    },
    "tags": []
   },
   "outputs": [],
   "source": [
    "QQ=AbstractAlgebra.QQ\n",
    "polynomial_ring=AbstractAlgebra.polynomial_ring\n",
    "include(\"../Data/Systems/caprasse.jl\");"
   ]
  },
  {
   "cell_type": "code",
   "execution_count": 14,
   "id": "90dd81c5",
   "metadata": {
    "editable": true,
    "slideshow": {
     "slide_type": ""
    },
    "tags": []
   },
   "outputs": [],
   "source": [
    "sys_z=convert_sys_to_sys_z(sys);\n",
    "#ls=AbstractAlgebra.symbols(R)\n",
    "#C,lls=polynomial_ring(AbstractAlgebra.ZZ,push!(ls,:_Z),ordering=:degrevlex,cached=false);"
   ]
  },
  {
   "cell_type": "code",
   "execution_count": 15,
   "id": "ae477a85-54c5-4612-84a5-c178984f2162",
   "metadata": {},
   "outputs": [],
   "source": [
    "#CPUTime.CPUtic();\n",
    "#qq_m=test_param(sys_z,27);\n",
    "#CPUTime.CPUtoc()"
   ]
  },
  {
   "cell_type": "code",
   "execution_count": 16,
   "id": "9f73c30e-43d7-47d4-aaf8-1632a61fc435",
   "metadata": {},
   "outputs": [],
   "source": [
    "#length(qq_m[1])\n",
    "\n"
   ]
  },
  {
   "cell_type": "code",
   "execution_count": 17,
   "id": "ad45576a-c081-4dd3-a38b-cead9469b18a",
   "metadata": {},
   "outputs": [
    {
     "name": "stdout",
     "output_type": "stream",
     "text": [
      "\n",
      "Separating vector 48(56)\n",
      "variable 4 is NOT separating 20\n",
      "variable 3 is NOT separating 17\n",
      "variable 2 is NOT separating 20\n",
      "Warning : normalization of _Z \n",
      "variable 1 is NOT separating 17elapsed CPU time: 0.458958 seconds\n"
     ]
    },
    {
     "data": {
      "text/plain": [
       "0.458958"
      ]
     },
     "execution_count": 17,
     "metadata": {},
     "output_type": "execute_result"
    }
   ],
   "source": [
    "CPUTime.CPUtic();\n",
    "dm,Dq,sys_T,_vars=prepare_system(sys_z, 27,R);\n",
    "CPUTime.CPUtoc()"
   ]
  },
  {
   "cell_type": "code",
   "execution_count": 18,
   "id": "b492e16f-e2e5-4e71-93e8-03e9db7b6a10",
   "metadata": {},
   "outputs": [],
   "source": [
    "_pr=UInt32(Primes.prevprime(2^27-1))\n",
    "_arithm=Groebner.ArithmeticZp(UInt64, UInt32, _pr)\n",
    "_graph,_t_learn,_t_v,_q,_i_xw,_t_xw,_pr,_gb_expvecs=learn_zdim_quo(sys_T,_pr,_arithm);\n",
    "_v,_gred,_index,_dg,_hom,_free_set = first_variable(_t_v,_i_xw,Int32(length(_vars)),_pr,_arithm);"
   ]
  },
  {
   "cell_type": "code",
   "execution_count": 19,
   "id": "05fa8413-72e3-4f56-ad00-af13c9f0e686",
   "metadata": {},
   "outputs": [
    {
     "data": {
      "text/plain": [
       "(Univariate polynomial ring in _Z over GF(134217689), _Z)"
      ]
     },
     "execution_count": 19,
     "metadata": {},
     "output_type": "execute_result"
    }
   ],
   "source": [
    "U,_T=Nemo.polynomial_ring(Nemo.Native.GF(Int64(_pr)),_vars[length(_vars)])"
   ]
  },
  {
   "cell_type": "code",
   "execution_count": 20,
   "id": "95f4b731-bc1d-4d5e-9e3f-ddcf19afac6e",
   "metadata": {},
   "outputs": [
    {
     "data": {
      "text/plain": [
       "32*_Z^31 + 133700709*_Z^29 + 125425919*_Z^27 + 75581026*_Z^25 + 127938035*_Z^23 + 13492029*_Z^21 + 18613901*_Z^19 + 117704805*_Z^17 + 29391061*_Z^15 + 22492787*_Z^13 + 6447772*_Z^11 + 102388290*_Z^9 + 113176732*_Z^7 + 111723002*_Z^5 + 128813843*_Z^3 + 3438811*_Z"
      ]
     },
     "execution_count": 20,
     "metadata": {},
     "output_type": "execute_result"
    }
   ],
   "source": [
    "f0=U(_v)+_T^(length(_v));\n",
    "df0=Nemo.derivative(f0)\n",
    "f0=f0/Nemo.gcd(f0,df0)\n",
    "df0=Nemo.derivative(f0)"
   ]
  },
  {
   "cell_type": "code",
   "execution_count": 29,
   "id": "25575d2c-fcc6-477c-8669-0f9c71ea3784",
   "metadata": {},
   "outputs": [
    {
     "name": "stdout",
     "output_type": "stream",
     "text": [
      "\n",
      " Dimension : 56\n",
      " Dimension : 56\n",
      " Dimension : 56\n",
      " Dimension : 56"
     ]
    }
   ],
   "source": [
    "lgx=[map(u->coeff_mod_p(u,_pr),collect(Nemo.coefficients(f0)))]\n",
    "for ii in 1:(length(_vars)-1)\n",
    "  _m_b,_lt_b,_n_g=biv_lex(_t_v,_i_xw,copy(_gred),copy(_index),copy(_dg),copy(_hom),copy(_free_set),Int32(ii),_pr,_arithm);\n",
    "  bl=convert_biv_lex_2_biv_pol(_n_g,_m_b,_lt_b,_pr)\n",
    "  hx=U([Int32(0)])\n",
    "  fm=U([Int32(1)])\n",
    "  ft=f0\n",
    "  for i in 1:length(bl)\n",
    "     d1=length(bl[i])-1\n",
    "     lc1=U(bl[i][d1+1])\n",
    "     f2=Nemo.gcd(ft,lc1)\n",
    "     f1=f0/f2\n",
    "     ilc1=Nemo.invmod(-d1*lc1,f1)\n",
    "     b1=Nemo.mulmod(U(bl[i][d1]),ilc1,f1)\n",
    "     hx+=Nemo.mulmod(b1,fm,f0)\n",
    "     ft=f2\n",
    "     fm*=f1\n",
    "  end\n",
    "  push!(lgx,map(u->coeff_mod_p(u,_pr),collect(Nemo.coefficients(Nemo.mulmod(hx,df0,f0)))))\n",
    "end"
   ]
  },
  {
   "cell_type": "code",
   "execution_count": 30,
   "id": "a6a64488-652f-4fd6-98a0-b4aee26880df",
   "metadata": {},
   "outputs": [
    {
     "data": {
      "text/plain": [
       "5-element Vector{Vector{Int32}}:\n",
       " [122435505, 0, 68828250, 0, 65757883, 0, 63359730, 0, 81255936, 0  …  0, 33292770, 0, 44204713, 0, 9272986, 0, 44721997, 0, 1]\n",
       " [110473293, 0, 77149283, 0, 56272550, 0, 107794110, 0, 89645795, 0  …  0, 44462206, 0, 40412956, 0, 61500599, 0, 18920061, 0, 64091661]\n",
       " [35118191, 0, 2296424, 0, 77080681, 0, 88386239, 0, 125050577, 0  …  0, 106976229, 0, 128700122, 0, 128983363, 0, 14694067, 0, 8603081]\n",
       " [117271342, 0, 99530695, 0, 54303811, 0, 5468549, 0, 78306202, 0  …  0, 58440745, 0, 1664496, 0, 34829722, 0, 20570616, 0, 106616780]\n",
       " [132869991, 0, 11249989, 0, 56283251, 0, 118875296, 0, 50359569, 0  …  0, 69729795, 0, 113905533, 0, 72041408, 0, 7283149, 0, 33842565]"
      ]
     },
     "execution_count": 30,
     "metadata": {},
     "output_type": "execute_result"
    }
   ],
   "source": [
    "lgx"
   ]
  },
  {
   "cell_type": "code",
   "execution_count": 194,
   "id": "9897aa07-2417-4306-a2ae-985dae1834df",
   "metadata": {},
   "outputs": [
    {
     "data": {
      "text/plain": [
       "_Z^8 + 44739759*_Z^6 + 298278*_Z^4 + 24013692*_Z^2 + 46449647"
      ]
     },
     "execution_count": 194,
     "metadata": {},
     "output_type": "execute_result"
    }
   ],
   "source": [
    "f2"
   ]
  },
  {
   "cell_type": "code",
   "execution_count": 182,
   "id": "6943f875-a8cd-4898-aeb1-8aaeb296ca80",
   "metadata": {},
   "outputs": [
    {
     "data": {
      "text/plain": [
       "_Z^8 + 44739759*_Z^6 + 298278*_Z^4 + 24013692*_Z^2 + 46449647"
      ]
     },
     "execution_count": 182,
     "metadata": {},
     "output_type": "execute_result"
    }
   ],
   "source": [
    "f2"
   ]
  },
  {
   "cell_type": "code",
   "execution_count": null,
   "id": "494c672d-06a4-4fa8-87fd-1497b56595ee",
   "metadata": {},
   "outputs": [
    {
     "name": "stdout",
     "output_type": "stream",
     "text": [
      "[2,2](0)[2,4](0)[2,6](0)[2,8](0)[2,10](0)[2,12](0)[2,14](0)[2,16](0)[2,18](0)[2,20](0)[2,22](0)[2,24](0)"
     ]
    }
   ],
   "source": [
    "CPUTime.CPUtic();\n",
    "qq=test_param(sys_T,28)\n",
    "CPUTime.CPUtoc()"
   ]
  },
  {
   "cell_type": "code",
   "execution_count": 62,
   "id": "5950f81f-52e8-4c59-a712-822c97fe1785",
   "metadata": {},
   "outputs": [
    {
     "data": {
      "text/plain": [
       "6234.741784037558"
      ]
     },
     "execution_count": 62,
     "metadata": {},
     "output_type": "execute_result"
    }
   ],
   "source": [
    "(27*60+40)*(800/213)"
   ]
  },
  {
   "cell_type": "code",
   "execution_count": null,
   "id": "da2dd39f-455e-4537-962a-8c349cf6645b",
   "metadata": {},
   "outputs": [],
   "source": []
  }
 ],
 "metadata": {
  "kernelspec": {
   "display_name": "Julia 1.9.3",
   "language": "julia",
   "name": "julia-1.9"
  },
  "language_info": {
   "file_extension": ".jl",
   "mimetype": "application/julia",
   "name": "julia",
   "version": "1.9.3"
  }
 },
 "nbformat": 4,
 "nbformat_minor": 5
}
