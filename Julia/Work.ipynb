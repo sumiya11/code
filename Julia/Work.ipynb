{
 "cells": [
  {
   "cell_type": "code",
   "execution_count": 1,
   "id": "61d85ee3-a989-427f-bf24-83cd6ad2ddc4",
   "metadata": {
    "editable": true,
    "slideshow": {
     "slide_type": ""
    },
    "tags": []
   },
   "outputs": [
    {
     "name": "stdout",
     "output_type": "stream",
     "text": [
      "\n",
      "Welcome to Nemo version 0.41.3\n",
      "\n",
      "Nemo comes with absolutely no warranty whatsoever\n"
     ]
    },
    {
     "data": {
      "text/plain": [
       "Main.Groebner"
      ]
     },
     "execution_count": 1,
     "metadata": {},
     "output_type": "execute_result"
    }
   ],
   "source": [
    "import AbstractAlgebra,Primes,CPUTime,HostCPUFeatures\n",
    "include(\"../../Groebner.jl/src/Groebner.jl\")"
   ]
  },
  {
   "cell_type": "code",
   "execution_count": 2,
   "id": "efb15b1c-dd09-4f4c-9f01-18b0693db194",
   "metadata": {
    "editable": true,
    "slideshow": {
     "slide_type": ""
    },
    "tags": []
   },
   "outputs": [
    {
     "data": {
      "text/plain": [
       "zdim_parameterization (generic function with 4 methods)"
      ]
     },
     "execution_count": 2,
     "metadata": {},
     "output_type": "execute_result"
    }
   ],
   "source": [
    "include(\"rur.jl\")"
   ]
  },
  {
   "cell_type": "code",
   "execution_count": 3,
   "id": "abc336c8",
   "metadata": {
    "editable": true,
    "slideshow": {
     "slide_type": ""
    },
    "tags": []
   },
   "outputs": [],
   "source": [
    "QQ=AbstractAlgebra.QQ\n",
    "polynomial_ring=AbstractAlgebra.polynomial_ring\n",
    "include(\"../Data/Systems/caprasse.jl\");\n",
    "#include(\"/tmp/fab_1_1.jl\");\n"
   ]
  },
  {
   "cell_type": "code",
   "execution_count": 4,
   "id": "bc35b822-49b0-4c97-9fe9-87dcd6e68d9b",
   "metadata": {},
   "outputs": [],
   "source": [
    "using Dates"
   ]
  },
  {
   "cell_type": "code",
   "execution_count": 5,
   "id": "7d392544-a6fe-4a31-82b4-72f02d948b35",
   "metadata": {},
   "outputs": [
    {
     "name": "stdout",
     "output_type": "stream",
     "text": [
      "\n",
      "Separating vector 32(56)\n",
      "[2,2](0)[2,4](0)[2,6](0)[2,8](0)[2,10](0)[2,12](0)[2,14](0)[2,16](0)(1)elapsed CPU time: 7.132216 seconds\n"
     ]
    }
   ],
   "source": [
    "   CPUTime.CPUtic();\n",
    "   qq=zdim_parameterization(sys);\n",
    "   t1=CPUTime.CPUtoc();\n"
   ]
  },
  {
   "cell_type": "code",
   "execution_count": 6,
   "id": "333d1720-1454-432b-a0ab-b2bb0778a247",
   "metadata": {},
   "outputs": [
    {
     "name": "stdout",
     "output_type": "stream",
     "text": [
      "20:42:27.656"
     ]
    }
   ],
   "source": [
    "print(Dates.Time(Dates.now()))"
   ]
  },
  {
   "cell_type": "code",
   "execution_count": 7,
   "id": "d0cdba6c-255e-4af0-b173-b3d4b02a5d9a",
   "metadata": {},
   "outputs": [
    {
     "name": "stdout",
     "output_type": "stream",
     "text": [
      "20:43:37.784\n",
      "variable 8 is separating 2173(2173)\n",
      "[2,2](0)[2,4](0)[2,6](0)[2,8](0)[2,10](0)[2,12](0)[2,14](0)[2,16](0)[2,18](0)[2,20](0)[2,22](0)[2,24](0)[2,26](0)[2,28](0)[2,30](0)[3,33](0)[3,36](0)[3,39](0)[3,42](0)[4,46](0)[4,50](0)[5,55](0)[5,60](0)[6,66](0)[6,72](0)[7,79](0)[7,86](0)[8,94](0)[9,103](0)[10,113](0)[11,124](0)[12,136](0)[13,149](0)[14,163](0)[16,179](0)[17,196](0)[19,215](0)[21,236](0)[23,259](0)[25,284](0)[28,312](0)[31,343](0)[34,377](0)[37,414](0)[41,455](0)[45,500](0)[50,550](0)[55,605](0)[60,665](0)[66,731](0)[73,804](0)[80,884](0)[88,972](0)[97,1069](0)[106,1175](0)[117,1292](0)\n",
      "*** Bad prime detected in apply_zdim ***\n",
      "\n",
      "*** bad prime for Gbasis detected ***\n",
      "[129,1420](0)(1)elapsed CPU time: 1945.389573 seconds\n"
     ]
    }
   ],
   "source": [
    "include(\"../Data/Systems/noon7.jl\");\n",
    "print(Dates.Time(Dates.now()))\n",
    "CPUTime.CPUtic();\n",
    "qq=zdim_parameterization(sys);\n",
    "t1=CPUTime.CPUtoc();\n"
   ]
  },
  {
   "cell_type": "code",
   "execution_count": null,
   "id": "35f679ee-2492-4f8d-bb3b-d128c24634e4",
   "metadata": {},
   "outputs": [],
   "source": []
  }
 ],
 "metadata": {
  "kernelspec": {
   "display_name": "Julia 1.10.0",
   "language": "julia",
   "name": "julia-1.10"
  },
  "language_info": {
   "file_extension": ".jl",
   "mimetype": "application/julia",
   "name": "julia",
   "version": "1.10.0"
  }
 },
 "nbformat": 4,
 "nbformat_minor": 5
}
