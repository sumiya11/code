{
 "cells": [
  {
   "cell_type": "code",
   "execution_count": 1,
   "id": "b78399a2-0b23-4d5c-9e6f-d6dba2733fdd",
   "metadata": {},
   "outputs": [
    {
     "name": "stderr",
     "output_type": "stream",
     "text": [
      "\u001b[32m\u001b[1m      Active\u001b[22m\u001b[39m manifest files: 3 found\n",
      "\u001b[32m\u001b[1m      Active\u001b[22m\u001b[39m artifact files: 5 found\n",
      "\u001b[32m\u001b[1m      Active\u001b[22m\u001b[39m scratchspaces: 2 found\n",
      "\u001b[32m\u001b[1m     Deleted\u001b[22m\u001b[39m no artifacts, repos, packages or scratchspaces\n",
      "\u001b[32m\u001b[1m   Resolving\u001b[22m\u001b[39m package versions...\n",
      "\u001b[32m\u001b[1m  No Changes\u001b[22m\u001b[39m to `~/.julia/environments/v1.10/Project.toml`\n",
      "\u001b[32m\u001b[1m  No Changes\u001b[22m\u001b[39m to `~/.julia/environments/v1.10/Manifest.toml`\n",
      "\u001b[32m\u001b[1m   Resolving\u001b[22m\u001b[39m package versions...\n",
      "\u001b[32m\u001b[1m  No Changes\u001b[22m\u001b[39m to `~/.julia/environments/v1.10/Project.toml`\n",
      "\u001b[32m\u001b[1m  No Changes\u001b[22m\u001b[39m to `~/.julia/environments/v1.10/Manifest.toml`\n",
      "\u001b[32m\u001b[1m   Resolving\u001b[22m\u001b[39m package versions...\n",
      "\u001b[32m\u001b[1m  No Changes\u001b[22m\u001b[39m to `~/.julia/environments/v1.10/Project.toml`\n",
      "\u001b[32m\u001b[1m  No Changes\u001b[22m\u001b[39m to `~/.julia/environments/v1.10/Manifest.toml`\n"
     ]
    }
   ],
   "source": [
    "using Pkg\n",
    "Pkg.gc()\n",
    "git_rep=\"/Users/rouillie/Travail/Git\"\n",
    "Pkg.develop(path=string(git_rep,\"/Groebner.jl/\"));\n",
    "Pkg.develop(path=string(git_rep,\"/NewRUR/Julia/RationalUnivariateRepresentation.jl/\"));\n",
    "Pkg.develop(path=string(git_rep,\"/PACE/RS.jl/\"));"
   ]
  },
  {
   "cell_type": "code",
   "execution_count": 2,
   "id": "2245faec",
   "metadata": {},
   "outputs": [],
   "source": [
    "using AbstractAlgebra,RationalUnivariateRepresentation,TimerOutputs,RS,Polynomials\n",
    "#include(string(git_rep,\"/NewRUR/Data/Systems/katsura11.jl\"));\n",
    "R  , (x1,x2)=polynomial_ring(QQ,[\"x1\",\"x2\"])\n",
    "sys = [x1^5+21*x1^4+174*x1^3+710*x1^2+1425*x1+1125, x2^5+8*x2^4+25*x2^3+38*x2^2+28*x2\n",
    "+8];"
   ]
  },
  {
   "cell_type": "code",
   "execution_count": 3,
   "id": "e5171777",
   "metadata": {},
   "outputs": [
    {
     "name": "stdout",
     "output_type": "stream",
     "text": [
      "primes of bitsize 28\n",
      "Gb - Quo - Prep table - Fill Gb - Learn comp Table - Learn Parameterization \n",
      "Gb - Quo - Prep table - Fill Gb - Learn comp Table - Learn Parameterization \n",
      "Gb - Quo - Prep table - Fill Gb - Learn comp Table - Learn Parameterization \n",
      "Use non trivial separating element\n",
      "Run Groebner learn\n",
      "Multi-modular computation (1 threads): Gb - Quo - Prep table - Fill Gb - Learn comp Table - Learn Parameterization \n",
      "5-check-Gb - Quo - Prep table - Fill Gb - Learn comp Table - Learn Parameterization \n",
      "\n",
      "  0.692557 seconds (4.34 M allocations: 212.125 MiB, 2.91% gc time, 98.67% compilation time: 38% of which was recompilation)\n"
     ]
    }
   ],
   "source": [
    "#using RationalUnivariateRepresentation\n",
    "@time rur,sep = zdim_parameterization(sys,verbose=true,get_separating_element=true);"
   ]
  },
  {
   "cell_type": "code",
   "execution_count": 4,
   "id": "e1ac8a9e",
   "metadata": {},
   "outputs": [
    {
     "data": {
      "text/plain": [
       "(Vector{Rational{BigInt}}[[24, -50, 35, -10, 1], [178, -260, 116, -16], [0, -50, 70, -30, 4], [-96, 150, -70, 10]], [-1, 1])"
      ]
     },
     "metadata": {},
     "output_type": "display_data"
    }
   ],
   "source": [
    "#include(string(git_rep,\"/NewRUR/Julia/RationalUnivariateRepresentation.jl/src/RUR.jl\"))\n",
    "rur,sep"
   ]
  },
  {
   "cell_type": "code",
   "execution_count": 5,
   "id": "71aa4501",
   "metadata": {},
   "outputs": [
    {
     "name": "stdout",
     "output_type": "stream",
     "text": [
      "primes of bitsize 28\n",
      "Gb - Quo - Prep table - Fill Gb - Learn comp Table - Learn Parameterization \n",
      "Gb - Quo - Prep table - Fill Gb - Learn comp Table - Learn Parameterization \n",
      "Gb - Quo - Prep table - Fill Gb - Learn comp Table - Learn Parameterization \n",
      "Use non trivial separating element\n",
      "Run Groebner learn\n",
      "Multi-modular computation (1 threads): Gb - Quo - Prep table - Fill Gb - Learn comp Table - Learn Parameterization \n",
      "5-check-Gb - Quo - Prep table - Fill Gb - Learn comp Table - Learn Parameterization \n",
      "\n",
      "\u001b[0m\u001b[1m ───────────────────────────────────────────────────────────────────────────────\u001b[22m\n",
      "\u001b[0m\u001b[1m                              \u001b[22m         Time                    Allocations      \n",
      "                              ───────────────────────   ────────────────────────\n",
      "       Tot / % measured:          83.6ms /  10.1%           16.7MiB /   8.6%    \n",
      "\n",
      " Section              ncalls     time    %tot     avg     alloc    %tot      avg\n",
      " ───────────────────────────────────────────────────────────────────────────────\n",
      " MM loop                   1   8.41ms  100.0%  8.41ms   1.44MiB  100.0%  1.44MiB\n",
      "   Groebner Classic        5    784μs    9.3%   157μs    409KiB   27.8%  81.8KiB\n",
      "   Groebner learn          1    228μs    2.7%   228μs    145KiB    9.9%   145KiB\n",
      "   Groebner Apply          1    223μs    2.7%   223μs    110KiB    7.5%   110KiB\n",
      "   crt+rat.rec.            1    156μs    1.9%   156μs   19.2KiB    1.3%  19.2KiB\n",
      "   Biv Lex                16    136μs    1.6%  8.51μs    115KiB    7.8%  7.21KiB\n",
      "     Gauss Reduct        133   44.0μs    0.5%   330ns   3.25KiB    0.2%    25.0B\n",
      "     Mul Var Quo         133   17.7μs    0.2%   133ns   3.25KiB    0.2%    25.0B\n",
      "   First Variable          9   95.1μs    1.1%  10.6μs   70.8KiB    4.8%  7.86KiB\n",
      "     Mul Var Quo         113   20.0μs    0.2%   177ns     0.00B    0.0%    0.00B\n",
      "     Gauss Reduct        113   18.7μs    0.2%   165ns     0.00B    0.0%    0.00B\n",
      "   Apply Table             4   25.1μs    0.3%  6.28μs   19.3KiB    1.3%  4.82KiB\n",
      "     Mul Var Quo         112   14.6μs    0.2%   131ns      832B    0.1%    7.43B\n",
      "   Mul Var Quo           100   20.2μs    0.2%   202ns   1.02KiB    0.1%    10.4B\n",
      "\u001b[0m\u001b[1m ───────────────────────────────────────────────────────────────────────────────\u001b[22m"
     ]
    }
   ],
   "source": [
    "TimerOutputs.reset_timer!(RationalUnivariateRepresentation.to);\n",
    "rur,sep = RationalUnivariateRepresentation.zdim_parameterization(sys,verbose=true,get_separating_element=true);\n",
    "TimerOutputs.show(RationalUnivariateRepresentation.to)"
   ]
  },
  {
   "cell_type": "code",
   "execution_count": 6,
   "id": "df3dd514",
   "metadata": {},
   "outputs": [],
   "source": [
    "lc =  lcm(map(v -> lcm(map(w -> denominator(w), v)), rur));\n",
    "rr=map(v->map(u->numerator(lc*u),v),rur);\n",
    "den=Polynomials.coeffs(Polynomials.derivative(Polynomials.Polynomial(rr[1])));ext=rr[1];coo=[rr[i] for i in 2:length(rr)];se=Vector{BigInt}(sep);"
   ]
  },
  {
   "cell_type": "code",
   "execution_count": 7,
   "id": "c9a8b54a",
   "metadata": {},
   "outputs": [
    {
     "name": "stdout",
     "output_type": "stream",
     "text": [
      "  0.065496 seconds (139.64 k allocations: 9.415 MiB, 99.62% compilation time)\n"
     ]
    },
    {
     "name": "stderr",
     "output_type": "stream",
     "text": [
      "\n",
      "Command : UISOLE (0)\n",
      "\n",
      "#C RS preparation starts \n",
      "\n",
      "prepare up [0]\n",
      "prepare ineqs up\n",
      "#C RS computation starts \n",
      "\n",
      "First isolation 12 \n",
      "\n",
      "Isole Uni noprec 12\n",
      "Bounds : 2^7,2^5,2^6,2^5, (2^5)\n",
      "Bound : 5 \n",
      "\n",
      " *****   hybrid algorithm *************\n",
      "\n",
      " Precision set to 63 \n",
      "-----!!-!!-v-v-v\n",
      "#C HybridUsp mpfr \t\t : 63\n",
      "#C HybridUsp nbsol \t\t : 4\n",
      "#C HybridUsp nberr \t\t : 0\n",
      "\n",
      " List Error : []\n",
      "\n",
      " Now I re-compute the Errors \n",
      "#C RRIP                          : 0.000041 (user) + 0.000013 (sys) = 0.000054 (tot)\n",
      "#C RafineP                       : 0.000007 (user) + 0.000006 (sys) = 0.000013 (tot)\n",
      "Bound : 0 \n",
      "#C RRIN                          : 0.000005 (user) + 0.000007 (sys) = 0.000012 (tot)\n",
      "#C RafineN                       : 0.000005 (user) + 0.000006 (sys) = 0.000011 (tot)\n",
      "\n",
      "#C RS computation time : 0.000106 \n",
      "\n",
      "RS check error : OK\n"
     ]
    },
    {
     "data": {
      "text/plain": [
       "4-element Vector{Vector{Vector{BigFloat}}}:\n",
       " [[1.0, 1.0]]\n",
       " [[2.0, 2.0]]\n",
       " [[3.0, 3.0]]\n",
       " [[4.0, 4.0]]"
      ]
     },
     "metadata": {},
     "output_type": "display_data"
    }
   ],
   "source": [
    "@time RS.rs_isolate(ext,output_precision=Int32(10),verbose=Int32(2))\n"
   ]
  },
  {
   "cell_type": "markdown",
   "id": "a6b32f22",
   "metadata": {},
   "source": []
  },
  {
   "cell_type": "code",
   "execution_count": 8,
   "id": "00ea462f",
   "metadata": {},
   "outputs": [
    {
     "name": "stdout",
     "output_type": "stream",
     "text": [
      "  0.000319 seconds (83 allocations: 4.023 KiB)\n"
     ]
    },
    {
     "name": "stderr",
     "output_type": "stream",
     "text": [
      "\n",
      "Command : RISOLE (10)\n",
      "\n",
      "#C RS preparation starts \n",
      "\n",
      "#C RS computation starts \n",
      "[0]\n",
      "Isole Uni noprec 2\n",
      "Bounds : 2^7,2^5,2^6,2^5, (2^5)\n",
      "Bound : 5 \n",
      "\n",
      " *****   hybrid algorithm *************\n",
      "\n",
      " Precision set to 63 \n",
      "-----!!-!!-v-v-v\n",
      "#C HybridUsp mpfr \t\t : 63\n",
      "#C HybridUsp nbsol \t\t : 4\n",
      "#C HybridUsp nberr \t\t : 0\n",
      "\n",
      " List Error : []\n",
      "\n",
      " Now I re-compute the Errors \n",
      "#C RRIP                          : 0.000052 (user) + 0.000017 (sys) = 0.000069 (tot)\n",
      "#C RafineP                       : 0.000008 (user) + 0.000007 (sys) = 0.000015 (tot)\n",
      "Bound : 0 \n",
      "#C RRIN                          : 0.000006 (user) + 0.000006 (sys) = 0.000012 (tot)\n",
      "#C RafineN                       : 0.000005 (user) + 0.000007 (sys) = 0.000012 (tot)\n",
      "\n",
      "Refine diff constraint 0 for signs [diff sf][Compute sign at roots (diff)][trivial gcd][Refine Roots][Refine constraint 0 for signs][trivial gcd][Refine Roots]\n",
      "Refine diff constraint 1 for signs [diff sf][Compute sign at roots (diff)][trivial gcd][Refine Roots][Refine constraint 1 for signs][trivial gcd][Refine Roots]\n",
      "Refine diff constraint 2 for signs [diff sf][Compute sign at roots (diff)][trivial gcd][Refine Roots][Refine constraint 2 for signs][trivial gcd][Refine Roots]\n",
      "Refine diff constraint 3 for signs [diff sf][Compute sign at roots (diff)][1] [gcd not trivial] [isolate gcd's roots][isolate gcd's roots][isolate gcd's roots][0:](2)[isolate gcd's roots][1] 2147483629  2147483587 Exit[2][Refine Roots][Refine constraint 3 for signs][trivial gcd][Refine Roots]\n",
      "Refine coord 1 at roots (0/4 12)(1/4 12)(2/4 12)(3/4 12)\n",
      "Refine coord 2 at roots (0/4 12)(1/4 12)(2/4 12)(3/4 12)\n",
      "Refine coord 3 at roots (0/4 12)(1/4 12)(2/4 12)(3/4 12)\n",
      "Translate coords and constraints 4 4 \n",
      "\n",
      "#C RS computation time : 0.000245 \n",
      "\n",
      "RS check error : OK\n"
     ]
    },
    {
     "data": {
      "text/plain": [
       "4-element Vector{Vector{Vector{BigFloat}}}:\n",
       " [[-3.0, -3.0], [1.0, 1.0], [1.0, 1.0]]\n",
       " [[-3.0, -3.0], [2.0, 2.0], [2.0, 2.0]]\n",
       " [[-5.0, -5.0], [3.0, 3.0], [3.0, 3.0]]\n",
       " [[-5.0, -5.0], [4.0, 4.0], [4.0, 4.0]]"
      ]
     },
     "metadata": {},
     "output_type": "display_data"
    }
   ],
   "source": [
    "@time RS.rs_isolate(ext,den,coo,se,output_precision=Int32(10),verbose=Int32(2))"
   ]
  },
  {
   "cell_type": "code",
   "execution_count": null,
   "id": "e67dde28",
   "metadata": {},
   "outputs": [],
   "source": [
    "function to_file(f_name, rur)\n",
    "    cof = lcm(map(v -> lcm(map(u -> denominator(u), v)), rur))\n",
    "    C, _Z = Nemo.polynomial_ring(Nemo.ZZ)\n",
    "    rur_z = [C(map(u -> Nemo.ZZ(numerator(u * cof)), rur[i])) for i in 1:length(rur)]\n",
    "    open(f_name, \"w\") do f\n",
    "        write(f, \"rur:=[\", string(rur_z[1]))\n",
    "        for i in 2:length(rur)\n",
    "            write(f, \",\\n\", string(rur_z[i]))\n",
    "        end\n",
    "        write(f, \"]:\\n\")\n",
    "    end\n",
    "    return (nothing)\n",
    "end\n"
   ]
  },
  {
   "cell_type": "code",
   "execution_count": null,
   "id": "3736d84c",
   "metadata": {},
   "outputs": [],
   "source": [
    "typeof(ext)"
   ]
  },
  {
   "cell_type": "code",
   "execution_count": null,
   "id": "85912c7f",
   "metadata": {},
   "outputs": [],
   "source": [
    "@time RS.rs_isolate(rur,se,output_precision=Int32(10))"
   ]
  },
  {
   "cell_type": "code",
   "execution_count": null,
   "id": "092bc115",
   "metadata": {},
   "outputs": [],
   "source": []
  }
 ],
 "metadata": {
  "kernelspec": {
   "display_name": "Julia 1.10.5",
   "language": "julia",
   "name": "julia-1.10"
  },
  "language_info": {
   "file_extension": ".jl",
   "mimetype": "application/julia",
   "name": "julia",
   "version": "1.10.5"
  }
 },
 "nbformat": 4,
 "nbformat_minor": 5
}
