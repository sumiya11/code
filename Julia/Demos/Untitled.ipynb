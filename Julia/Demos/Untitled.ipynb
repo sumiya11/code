{
 "cells": [
  {
   "cell_type": "code",
   "execution_count": 1,
   "id": "b78399a2-0b23-4d5c-9e6f-d6dba2733fdd",
   "metadata": {},
   "outputs": [
    {
     "name": "stderr",
     "output_type": "stream",
     "text": [
      "\u001b[32m\u001b[1m    Updating\u001b[22m\u001b[39m `~/.julia/environments/v1.10/Project.toml`\n",
      "  \u001b[90m[17246082] \u001b[39m\u001b[91m- RationalUnivariateRepresentation v0.0.4 `~/Travail/Git/NewRUR/Julia/RationalUnivariateRepresentation.jl`\u001b[39m\n",
      "\u001b[32m\u001b[1m    Updating\u001b[22m\u001b[39m `~/.julia/environments/v1.10/Manifest.toml`\n",
      "  \u001b[90m[17246082] \u001b[39m\u001b[91m- RationalUnivariateRepresentation v0.0.4 `~/Travail/Git/NewRUR/Julia/RationalUnivariateRepresentation.jl`\u001b[39m\n",
      "  \u001b[90m[b189fb0b] \u001b[39m\u001b[91m- ThreadPools v2.1.1\u001b[39m\n",
      "  \u001b[90m[8ba89e20] \u001b[39m\u001b[91m- Distributed\u001b[39m\n",
      "  \u001b[90m[10745b16] \u001b[39m\u001b[91m- Statistics v1.10.0\u001b[39m\n",
      "\u001b[32m\u001b[1m      Active\u001b[22m\u001b[39m manifest files: 3 found\n",
      "\u001b[32m\u001b[1m      Active\u001b[22m\u001b[39m artifact files: 5 found\n",
      "\u001b[32m\u001b[1m      Active\u001b[22m\u001b[39m scratchspaces: 2 found\n",
      "\u001b[32m\u001b[1m     Deleted\u001b[22m\u001b[39m no artifacts, repos, packages or scratchspaces\n",
      "\u001b[32m\u001b[1m   Resolving\u001b[22m\u001b[39m package versions...\n",
      "\u001b[32m\u001b[1m  No Changes\u001b[22m\u001b[39m to `~/.julia/environments/v1.10/Project.toml`\n",
      "\u001b[32m\u001b[1m  No Changes\u001b[22m\u001b[39m to `~/.julia/environments/v1.10/Manifest.toml`\n",
      "\u001b[32m\u001b[1m   Resolving\u001b[22m\u001b[39m package versions...\n",
      "\u001b[32m\u001b[1m    Updating\u001b[22m\u001b[39m `~/.julia/environments/v1.10/Project.toml`\n",
      "  \u001b[90m[17246082] \u001b[39m\u001b[92m+ RationalUnivariateRepresentation v0.0.4 `~/Travail/Git/NewRUR/Julia/RationalUnivariateRepresentation.jl`\u001b[39m\n",
      "\u001b[32m\u001b[1m    Updating\u001b[22m\u001b[39m `~/.julia/environments/v1.10/Manifest.toml`\n",
      "  \u001b[90m[17246082] \u001b[39m\u001b[92m+ RationalUnivariateRepresentation v0.0.4 `~/Travail/Git/NewRUR/Julia/RationalUnivariateRepresentation.jl`\u001b[39m\n",
      "  \u001b[90m[b189fb0b] \u001b[39m\u001b[92m+ ThreadPools v2.1.1\u001b[39m\n",
      "  \u001b[90m[8ba89e20] \u001b[39m\u001b[92m+ Distributed\u001b[39m\n",
      "  \u001b[90m[10745b16] \u001b[39m\u001b[92m+ Statistics v1.10.0\u001b[39m\n",
      "\u001b[32m\u001b[1m   Resolving\u001b[22m\u001b[39m package versions...\n",
      "\u001b[32m\u001b[1m  No Changes\u001b[22m\u001b[39m to `~/.julia/environments/v1.10/Project.toml`\n",
      "\u001b[32m\u001b[1m  No Changes\u001b[22m\u001b[39m to `~/.julia/environments/v1.10/Manifest.toml`\n"
     ]
    }
   ],
   "source": [
    "using Pkg\n",
    "Pkg.rm(\"RationalUnivariateRepresentation\")\n",
    "Pkg.gc()\n",
    "git_rep=\"/Users/rouillie/Travail/Git\"\n",
    "Pkg.develop(path=string(git_rep,\"/Groebner.jl/\"));\n",
    "Pkg.develop(path=string(git_rep,\"/NewRUR/Julia/RationalUnivariateRepresentation.jl/\"));\n",
    "Pkg.develop(path=string(git_rep,\"/PACE/RS.jl/\"));"
   ]
  },
  {
   "cell_type": "code",
   "execution_count": 17,
   "id": "2245faec",
   "metadata": {},
   "outputs": [
    {
     "data": {
      "text/plain": [
       "6-element Vector{AbstractAlgebra.Generic.MPoly{Rational{BigInt}}}:\n",
       " -10*x1^7 + 10*x2^7 - 10*x3^7 + 10*x4^7 - 10*x5^7 + 10*x6^7 - 20*x1^6 + 20*x2^6 - 20*x3^6 + 20*x4^6 - 20*x5^6 + 20*x6^6 - 14*x1^5 + 14*x2^5 - 14*x3^5 + 14*x4^5 - 14*x5^5 + 14*x6^5 + 42*x1^4 - 72*x1^2*x2^2 + 30*x2^4 + 72*x1^2*x3^2 - 72*x2^2*x3^2 + 42*x3^4 - 72*x1^2*x4^2 + 72*x2^2*x4^2 - 72*x3^2*x4^2 + 30*x4^4 + 72*x1^2*x5^2 - 72*x2^2*x5^2 + 72*x3^2*x5^2 - 72*x4^2*x5^2 + 42*x5^4 - 72*x1^2*x6^2 + 72*x2^2*x6^2 - 72*x3^2*x6^2 + 72*x4^2*x6^2 - 72*x5^2*x6^2 + 30*x6^4 - 4*x1^3 + 4*x2^3 - 4*x3^3 + 4*x4^3 - 4*x5^3 + 4*x6^3 - 36*x1^2 + 36*x2^2 - 36*x3^2 + 36*x4^2 - 36*x5^2 + 36*x6^2 + 30\n",
       " -6*x1^7 + 6*x2^7 - 6*x3^7 + 6*x4^7 - 6*x5^7 + 6*x6^7 - 16*x1^6 + 16*x2^6 - 16*x3^6 + 16*x4^6 - 16*x5^6 + 16*x6^6 - 12*x1^5 + 12*x2^5 - 12*x3^5 + 12*x4^5 - 12*x5^5 + 12*x6^5 + 4*x1^4 - 4*x2^4 + 4*x3^4 - 4*x4^4 + 4*x5^4 - 4*x6^4 + 16*x1^3 - 16*x2^3 + 16*x3^3 - 16*x4^3 + 16*x5^3 - 16*x6^3 + 7\n",
       " -16*x1^6 + 16*x2^6 - 16*x3^6 + 16*x4^6 - 16*x5^6 + 16*x6^6 - 2*x1^5 + 2*x2^5 - 2*x3^5 + 2*x4^5 - 2*x5^5 + 2*x6^5 + 6*x1^4 - 40*x1^2*x2^2 + 34*x2^4 + 40*x1^2*x3^2 - 40*x2^2*x3^2 + 6*x3^4 - 40*x1^2*x4^2 + 40*x2^2*x4^2 - 40*x3^2*x4^2 + 34*x4^4 + 40*x1^2*x5^2 - 40*x2^2*x5^2 + 40*x3^2*x5^2 - 40*x4^2*x5^2 + 6*x5^4 - 40*x1^2*x6^2 + 40*x2^2*x6^2 - 40*x3^2*x6^2 + 40*x4^2*x6^2 - 40*x5^2*x6^2 + 34*x6^4 + 20*x1^3 - 20*x2^3 + 20*x3^3 - 20*x4^3 + 20*x5^3 - 20*x6^3 - 20*x1^2 + 20*x2^2 - 20*x3^2 + 20*x4^2 - 20*x5^2 + 20*x6^2 + 11\n",
       " -2*x1^7 + 2*x2^7 - 2*x3^7 + 2*x4^7 - 2*x5^7 + 2*x6^7 - 4*x1^6 + 4*x2^6 - 4*x3^6 + 4*x4^6 - 4*x5^6 + 4*x6^6 + 16*x1^5 - 16*x2^5 + 16*x3^5 - 16*x4^5 + 16*x5^5 - 16*x6^5 + 16*x1^4 - 64*x1^2*x2^2 + 48*x2^4 + 64*x1^2*x3^2 - 64*x2^2*x3^2 + 16*x3^4 - 64*x1^2*x4^2 + 64*x2^2*x4^2 - 64*x3^2*x4^2 + 48*x4^4 + 64*x1^2*x5^2 - 64*x2^2*x5^2 + 64*x3^2*x5^2 - 64*x4^2*x5^2 + 16*x5^4 - 64*x1^2*x6^2 + 64*x2^2*x6^2 - 64*x3^2*x6^2 + 64*x4^2*x6^2 - 64*x5^2*x6^2 + 48*x6^4 + 10*x1^3 - 10*x2^3 + 10*x3^3 - 10*x4^3 + 10*x5^3 - 10*x6^3 - 32*x1^2 + 32*x2^2 - 32*x3^2 + 32*x4^2 - 32*x5^2 + 32*x6^2 + 6\n",
       " -12*x1^7 + 12*x2^7 - 12*x3^7 + 12*x4^7 - 12*x5^7 + 12*x6^7 - 16*x1^6 + 16*x2^6 - 16*x3^6 + 16*x4^6 - 16*x5^6 + 16*x6^6 - 20*x1^5 + 20*x2^5 - 20*x3^5 + 20*x4^5 - 20*x5^5 + 20*x6^5 - 22*x1^4 + 56*x1^2*x2^2 - 34*x2^4 - 56*x1^2*x3^2 + 56*x2^2*x3^2 - 22*x3^4 + 56*x1^2*x4^2 - 56*x2^2*x4^2 + 56*x3^2*x4^2 - 34*x4^4 - 56*x1^2*x5^2 + 56*x2^2*x5^2 - 56*x3^2*x5^2 + 56*x4^2*x5^2 - 22*x5^4 + 56*x1^2*x6^2 - 56*x2^2*x6^2 + 56*x3^2*x6^2 - 56*x4^2*x6^2 + 56*x5^2*x6^2 - 34*x6^4 - 8*x1^3 + 8*x2^3 - 8*x3^3 + 8*x4^3 - 8*x5^3 + 8*x6^3 + 28*x1^2 - 28*x2^2 + 28*x3^2 - 28*x4^2 + 28*x5^2 - 28*x6^2 + 18\n",
       " 14*x1^7 - 14*x2^7 + 14*x3^7 - 14*x4^7 + 14*x5^7 - 14*x6^7 - 16*x1^5 + 16*x2^5 - 16*x3^5 + 16*x4^5 - 16*x5^5 + 16*x6^5 - 6*x1^4 + 24*x1^2*x2^2 - 18*x2^4 - 24*x1^2*x3^2 + 24*x2^2*x3^2 - 6*x3^4 + 24*x1^2*x4^2 - 24*x2^2*x4^2 + 24*x3^2*x4^2 - 18*x4^4 - 24*x1^2*x5^2 + 24*x2^2*x5^2 - 24*x3^2*x5^2 + 24*x4^2*x5^2 - 6*x5^4 + 24*x1^2*x6^2 - 24*x2^2*x6^2 + 24*x3^2*x6^2 - 24*x4^2*x6^2 + 24*x5^2*x6^2 - 18*x6^4 + 12*x1^3 - 12*x2^3 + 12*x3^3 - 12*x4^3 + 12*x5^3 - 12*x6^3 + 12*x1^2 - 12*x2^2 + 12*x3^2 - 12*x4^2 + 12*x5^2 - 12*x6^2 - 11"
      ]
     },
     "metadata": {},
     "output_type": "display_data"
    }
   ],
   "source": [
    "using AbstractAlgebra,RationalUnivariateRepresentation,TimerOutputs,RS,Groebner\n",
    "#XX_sq_1\n",
    "sys=Groebner.Examples.reimern(6)\n",
    "\n",
    "sys2=push!([sys[i] for i in 2:length(sys)],sys[1]^2)\n",
    "sys=[(sum([rand(-10:10) for i in 1:length(sys)] .* sys2)) for j in 1:length(sys2)]\n",
    "#XX_sq_a\n",
    "#sys=Groebner.Examples.noonn(6)\n",
    "#sys2=sys .^2\n",
    "#sys=[(sum([rand(-10:10) for i in 1:length(sys)] .* sys2)) for j in 1:length(sys2)]\n"
   ]
  },
  {
   "cell_type": "code",
   "execution_count": 65,
   "id": "e5171777",
   "metadata": {},
   "outputs": [
    {
     "name": "stdout",
     "output_type": "stream",
     "text": [
      "primes of bitsize 28\n"
     ]
    }
   ],
   "source": [
    "#using RationalUnivariateRepresentation\n",
    "@time rur,sep = zdim_parameterization(sys,verbose=true,get_separating_element=true);"
   ]
  },
  {
   "cell_type": "code",
   "execution_count": null,
   "id": "45f0c8d3",
   "metadata": {},
   "outputs": [],
   "source": [
    "length(rur[1])"
   ]
  },
  {
   "cell_type": "code",
   "execution_count": null,
   "id": "e67dde28",
   "metadata": {},
   "outputs": [],
   "source": [
    "function to_file(f_name, rur)\n",
    "    cof = lcm(map(v -> lcm(map(u -> denominator(u), v)), rur))\n",
    "    C, _Z = Nemo.polynomial_ring(Nemo.ZZ)\n",
    "    rur_z = [C(map(u -> Nemo.ZZ(numerator(u * cof)), rur[i])) for i in 1:length(rur)]\n",
    "    open(f_name, \"w\") do f\n",
    "        write(f, \"rur:=[\", string(rur_z[1]))\n",
    "        for i in 2:length(rur)\n",
    "            write(f, \",\\n\", string(rur_z[i]))\n",
    "        end\n",
    "        write(f, \"]:\\n\")\n",
    "    end\n",
    "    return (nothing)\n",
    "end\n"
   ]
  },
  {
   "cell_type": "code",
   "execution_count": null,
   "id": "1d531484",
   "metadata": {},
   "outputs": [],
   "source": []
  },
  {
   "cell_type": "code",
   "execution_count": null,
   "id": "85912c7f",
   "metadata": {},
   "outputs": [],
   "source": [
    "@time RS.rs_isolate(rur,sep,output_precision=Int32(10))"
   ]
  },
  {
   "cell_type": "code",
   "execution_count": null,
   "id": "35c09710",
   "metadata": {},
   "outputs": [],
   "source": [
    "function to_file_ms(f_name, sys)\n",
    "    open(f_name, \"w\") do f\n",
    "        a=AbstractAlgebra.gens(parent(sys[1]))\n",
    "        write(f,string(a[1]));\n",
    "        for i in 2:length(a)\n",
    "            write(f, \",\", string(a[i]))\n",
    "        end\n",
    "        write(f,\"\\n0\\n\", string(sys[1]))\n",
    "        for i in 2:length(sys)\n",
    "            write(f, \",\\n\", string(sys[i]))\n",
    "        end\n",
    "    end\n",
    "    return (nothing)\n",
    "end"
   ]
  },
  {
   "cell_type": "code",
   "execution_count": 57,
   "id": "546a5bb3",
   "metadata": {},
   "outputs": [],
   "source": [
    "\n",
    "to_file_ms(\"/tmp/Ka9_s1.ms\",sys)"
   ]
  },
  {
   "cell_type": "code",
   "execution_count": 9,
   "id": "888c4928",
   "metadata": {},
   "outputs": [
    {
     "data": {
      "text/plain": [
       "to_file_jl (generic function with 1 method)"
      ]
     },
     "metadata": {},
     "output_type": "display_data"
    }
   ],
   "source": [
    "function to_file_jl(f_name, sys)\n",
    "    open(f_name, \"w\") do f\n",
    "        a=AbstractAlgebra.gens(parent(sys[1]))\n",
    "        write(f,\"R,(\",string(a[1]))\n",
    "        for i in 2:length(a)\n",
    "            write(f, \",\", string(a[i]))\n",
    "        end\n",
    "        write(f,\")=polynomial_ring(QQ,[\\\"\",string(a[1]));\n",
    "        for i in 2:length(a)\n",
    "            write(f, \"\\\"\",\",\\\"\",string(a[i]))\n",
    "        end\n",
    "        write(f,\"\\\"]);\\nsys = [\", string(sys[1]))\n",
    "        for i in 2:length(sys)\n",
    "            write(f, \",\\n\", string(sys[i]))\n",
    "        end\n",
    "        write(f,\"];\\n\")\n",
    "    end\n",
    "    return (nothing)\n",
    "end"
   ]
  },
  {
   "cell_type": "code",
   "execution_count": 41,
   "id": "11af90da",
   "metadata": {},
   "outputs": [],
   "source": [
    "to_file_jl(\"/tmp/C6_sq.jl\",sys)"
   ]
  },
  {
   "cell_type": "code",
   "execution_count": null,
   "id": "6c449a05",
   "metadata": {},
   "outputs": [],
   "source": [
    "function to_file_mpl(f_name, sys)\n",
    "    open(f_name, \"w\") do f\n",
    "        a=AbstractAlgebra.gens(parent(sys[1]))\n",
    "        write(f,\"vars:=[\",string(a[1]))\n",
    "        for i in 2:length(a)\n",
    "            write(f, \",\", string(a[i]))\n",
    "        end\n",
    "        write(f,\"]:\\nsys:=[\", string(sys[1]))\n",
    "        for i in 2:length(sys)\n",
    "            write(f, \",\\n\", string(sys[i]))\n",
    "        end\n",
    "        write(f,\"]:\\n\")\n",
    "    end\n",
    "    return (nothing)\n",
    "end"
   ]
  },
  {
   "cell_type": "code",
   "execution_count": 18,
   "id": "60b330cb",
   "metadata": {},
   "outputs": [],
   "source": [
    "to_file_jl(\"/Users/rouillie/tmp/Re6_sq_1.jl\",sys)"
   ]
  },
  {
   "cell_type": "code",
   "execution_count": null,
   "id": "50cca429",
   "metadata": {},
   "outputs": [],
   "source": []
  }
 ],
 "metadata": {
  "kernelspec": {
   "display_name": "Julia 1.10.5",
   "language": "julia",
   "name": "julia-1.10"
  },
  "language_info": {
   "file_extension": ".jl",
   "mimetype": "application/julia",
   "name": "julia",
   "version": "1.10.5"
  }
 },
 "nbformat": 4,
 "nbformat_minor": 5
}
