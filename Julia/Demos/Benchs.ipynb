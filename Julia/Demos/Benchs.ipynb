{
 "cells": [
  {
   "cell_type": "code",
   "execution_count": 2,
   "metadata": {},
   "outputs": [],
   "source": [
    "using AbstractAlgebra,Groebner"
   ]
  },
  {
   "cell_type": "code",
   "execution_count": 32,
   "metadata": {},
   "outputs": [
    {
     "data": {
      "text/plain": [
       "to_file_mpl (generic function with 1 method)"
      ]
     },
     "metadata": {},
     "output_type": "display_data"
    }
   ],
   "source": [
    "function to_file(f_name, rur)\n",
    "    cof = lcm(map(v -> lcm(map(u -> denominator(u), v)), rur))\n",
    "    C, _Z = Nemo.polynomial_ring(Nemo.ZZ)\n",
    "    rur_z = [C(map(u -> Nemo.ZZ(numerator(u * cof)), rur[i])) for i in 1:length(rur)]\n",
    "    open(f_name, \"w\") do f\n",
    "        write(f, \"rur:=[\", string(rur_z[1]))\n",
    "        for i in 2:length(rur)\n",
    "            write(f, \",\\n\", string(rur_z[i]))\n",
    "        end\n",
    "        write(f, \"]:\\n\")\n",
    "    end\n",
    "    return (nothing)\n",
    "end\n",
    "function to_file_ms(f_name, sys)\n",
    "    open(f_name, \"w\") do f\n",
    "        a=AbstractAlgebra.gens(parent(sys[1]))\n",
    "        write(f,string(a[1]));\n",
    "        for i in 2:length(a)\n",
    "            write(f, \",\", string(a[i]))\n",
    "        end\n",
    "        write(f,\"\\n0\\n\", string(sys[1]))\n",
    "        for i in 2:length(sys)\n",
    "            write(f, \",\\n\", string(sys[i]))\n",
    "        end\n",
    "    end\n",
    "    return (nothing)\n",
    "end\n",
    "function to_file_jl(f_name, sys)\n",
    "    open(f_name, \"w\") do f\n",
    "        a=AbstractAlgebra.gens(parent(sys[1]))\n",
    "        write(f,\"R,(\",string(a[1]))\n",
    "        for i in 2:length(a)\n",
    "            write(f, \",\", string(a[i]))\n",
    "        end\n",
    "        write(f,\")=polynomial_ring(QQ,[\\\"\",string(a[1]));\n",
    "        for i in 2:length(a)\n",
    "            write(f, \"\\\"\",\",\\\"\",string(a[i]))\n",
    "        end\n",
    "        write(f,\"\\\"]);\\nsys = [\", string(sys[1]))\n",
    "        for i in 2:length(sys)\n",
    "            write(f, \",\\n\", string(sys[i]))\n",
    "        end\n",
    "        write(f,\"];\\n\")\n",
    "    end\n",
    "    return (nothing)\n",
    "end\n",
    "function to_file_mpl(f_name, sys)\n",
    "    open(f_name, \"w\") do f\n",
    "        a=AbstractAlgebra.gens(parent(sys[1]))\n",
    "        write(f,\"vars:=[\",string(a[1]))\n",
    "        for i in 2:length(a)\n",
    "            write(f, \",\", string(a[i]))\n",
    "        end\n",
    "        write(f,\"]:\\nsys:=[\", string(sys[1]))\n",
    "        for i in 2:length(sys)\n",
    "            write(f, \",\\n\", string(sys[i]))\n",
    "        end\n",
    "        write(f,\"]:\\n\")\n",
    "    end\n",
    "    return (nothing)\n",
    "end"
   ]
  },
  {
   "cell_type": "code",
   "execution_count": 17,
   "metadata": {},
   "outputs": [],
   "source": [
    "function make_sq_a(sys)\n",
    "    sys2=sys .^2\n",
    "    [(sum([rand(-10:10) for i in 1:length(sys)] .* sys2)) for j in 1:length(sys2)]\n",
    "end\n",
    "\n",
    "function make_sq_1(sys)\n",
    "    sys2=push!([sys[i] for i in 2:length(sys)],sys[1]^2)\n",
    "    [(sum([rand(-10:10) for i in 1:length(sys)] .* sys2)) for j in 1:length(sys2)]\n",
    "end\n",
    "\n",
    "dir=\"/Users/rouillie/Travail/Home/Calculs/Benchs/data/jl/\";\n",
    "ext_rur=\".jl\";\n"
   ]
  },
  {
   "cell_type": "code",
   "execution_count": 41,
   "metadata": {},
   "outputs": [
    {
     "name": "stdout",
     "output_type": "stream",
     "text": [
      "robot reimer6 caprasse katsura9 cp_d_3_n_6_p_2 eco10 eco11 cp_d_3_n_6_p_6 Ro5_sq eco12 katsura11 chandra10 Ch6_sq fab_4 schwarz11 Re5_sq noon7 Ka6_sq katsura12 eco13 chandra11 root7 reimer7 No5_sq gametwo7 katsura13 eco14 henrion7 "
     ]
    }
   ],
   "source": [
    "examples=[\"robot\",\"reimer6\",\"caprasse\",\"katsura9\",\"cp_d_3_n_6_p_2\",\"eco10\",\"eco11\",\"cp_d_3_n_6_p_6\",\"Ro5_sq\",\"eco12\",\"katsura11\",\"chandra10\",\"Ch6_sq\",\"fab_4\",\"schwarz11\",\"Re5_sq\",\"noon7\",\"Ka6_sq\",\"katsura12\",\"eco13\",\"chandra11\",\"root7\",\"reimer7\",\"No5_sq\",\"gametwo7\",\"katsura13\",\"eco14\",\"henrion7\"];\n",
    "polynomial_ring_only=AbstractAlgebra.polynomial_ring_only\n",
    "ms_dir=\"/Users/rouillie/Travail/Home/Calculs/Benchs/data/ms/\";\n",
    "ext_ms=\".ms\"\n",
    "for i in eachindex(examples)\n",
    "    print(examples[i],\" \");\n",
    "    include(string(dir,examples[i],ext_rur));\n",
    "    to_file_ms(string(ms_dir,examples[i],ext_ms),sys);\n",
    "end"
   ]
  },
  {
   "cell_type": "code",
   "execution_count": null,
   "metadata": {},
   "outputs": [],
   "source": []
  }
 ],
 "metadata": {
  "kernelspec": {
   "display_name": "Julia 1.10.5",
   "language": "julia",
   "name": "julia-1.10"
  },
  "language_info": {
   "file_extension": ".jl",
   "mimetype": "application/julia",
   "name": "julia",
   "version": "1.10.5"
  }
 },
 "nbformat": 4,
 "nbformat_minor": 2
}
